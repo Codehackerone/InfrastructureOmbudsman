{
 "cells": [
  {
   "cell_type": "markdown",
   "id": "26e0e837",
   "metadata": {},
   "source": [
    "# BERT"
   ]
  },
  {
   "cell_type": "code",
   "execution_count": 16,
   "id": "f134f11a",
   "metadata": {},
   "outputs": [],
   "source": [
    "from transformers import logging, TextClassificationPipeline, AutoTokenizer, AutoConfig, TrainingArguments, Trainer, AutoModelForSequenceClassification, pipeline\n",
    "import numpy as np\n",
    "import pandas as pd\n",
    "import sklearn.metrics\n",
    "import datasets\n",
    "import evaluate\n",
    "import seaborn as sns\n",
    "import matplotlib.pyplot as plt\n",
    "import torch\n",
    "import huggingface_hub\n",
    "import random\n",
    "import spacy\n",
    "from tqdm import tqdm\n",
    "id2label = {0: \"NEGATIVE\", 1: \"POSITIVE\"}\n",
    "label2id = {\"NEGATIVE\": 0, \"POSITIVE\": 1}\n",
    "logging.set_verbosity_error()"
   ]
  },
  {
   "cell_type": "code",
   "execution_count": 2,
   "id": "2c62e16b",
   "metadata": {},
   "outputs": [
    {
     "name": "stderr",
     "output_type": "stream",
     "text": [
      "Using the latest cached version of the module from /home/mac9908/.cache/huggingface/modules/evaluate_modules/metrics/evaluate-metric--f1/0ca73f6cf92ef5a268320c697f7b940d1030f8471714bffdb6856c641b818974 (last modified on Sun Apr 16 03:14:33 2023) since it couldn't be found locally at evaluate-metric--f1, or remotely on the Hugging Face Hub.\n",
      "Using the latest cached version of the module from /home/mac9908/.cache/huggingface/modules/evaluate_modules/metrics/BucketHeadP65--confusion_matrix/254235a9ddfc4c72780abf742d0465b2f277b620321424b2c9e0cb665679e57d (last modified on Tue Apr 18 00:30:53 2023) since it couldn't be found locally at BucketHeadP65--confusion_matrix, or remotely on the Hugging Face Hub.\n",
      "Using the latest cached version of the module from /home/mac9908/.cache/huggingface/modules/evaluate_modules/metrics/bstrai--classification_report/84690405a7a830f4f3f8c00ea1f9de9c2d4e4ccab3cb790c1a495a48055fb571 (last modified on Tue Apr 18 02:03:32 2023) since it couldn't be found locally at bstrai--classification_report, or remotely on the Hugging Face Hub.\n",
      "'(ReadTimeoutError(\"HTTPSConnectionPool(host='huggingface.co', port=443): Read timed out. (read timeout=10)\"), '(Request ID: 7368b953-a923-4a79-9b17-34de32391e20)')' thrown while requesting HEAD https://huggingface.co/bert-base-cased/resolve/main/tokenizer_config.json\n"
     ]
    }
   ],
   "source": [
    "# Load Libraries\n",
    "model_name = 'bert-base-cased'\n",
    "metric = evaluate.load(\"f1\")\n",
    "cf_metric = evaluate.load(\"BucketHeadP65/confusion_matrix\")\n",
    "classification_report_metric = evaluate.load(\"bstrai/classification_report\")\n",
    "tokenizer = AutoTokenizer.from_pretrained(model_name)\n",
    "nlp = spacy.load(\"en_core_web_sm\")"
   ]
  },
  {
   "cell_type": "code",
   "execution_count": 17,
   "id": "1a398946",
   "metadata": {},
   "outputs": [],
   "source": [
    "# Results Table\n",
    "results_table = {'model': [], 'precision': [], 'recall': [], 'f1': [], 'accuracy': []}\n",
    "# Util functions\n",
    "def compute_metrics(eval_pred):\n",
    "    logits, labels = eval_pred\n",
    "    predictions = np.argmax(logits, axis=-1)\n",
    "    return metric.compute(predictions=predictions, references=labels, average=\"weighted\")\n",
    "def tokenize_function(examples):\n",
    "    return tokenizer(examples[\"comment\"], padding=\"max_length\", truncation=True, return_tensors='pt', max_length=512)\n",
    "def labelify(examples):\n",
    "  label_encode = {\n",
    "      'true': 1,\n",
    "      'false': 0\n",
    "  }\n",
    "  label = label_encode[examples['label'].lower()]\n",
    "  examples['label'] = label\n",
    "  return examples\n",
    "def ner_mask(x):\n",
    "    doc = nlp(x['comment'])\n",
    "    masked = x['comment']\n",
    "    for e in reversed(doc.ents): #reversed to not modify the offsets of other entities when substituting\n",
    "        if e.label_ in ['LOC', 'GPE']:\n",
    "            start = e.start_char\n",
    "            end = start + len(e.text)\n",
    "            masked = masked[:start] + '<LOCATION>' + masked[end:]\n",
    "    x['comment'] = masked\n",
    "    return x\n",
    "\n",
    "def load_data(filename, mask=False, seed=42, split=0.2):\n",
    "  df = pd.read_csv(filename)\n",
    "  df['labels'] = df['label'].astype('int')\n",
    "  dt = datasets.Dataset.from_pandas(df)\n",
    "  if mask:\n",
    "    dt = dt.map(ner_mask)\n",
    "  print(dt)\n",
    "  dt = dt.train_test_split(test_size=split, seed=seed)\n",
    "  train=dt['train'].shuffle(seed=seed)\n",
    "  test=dt['test'].shuffle(seed=seed)\n",
    "  return train, test\n",
    "# Train\n",
    "class InfraTrainer(Trainer):\n",
    "    def compute_loss(self, model, inputs, return_outputs=False):\n",
    "        labels = inputs.pop(\"labels\")\n",
    "        labels = labels.type(torch.LongTensor)\n",
    "        labels = labels.to('cuda')\n",
    "        # forward pass\n",
    "        outputs = model(**inputs)\n",
    "        logits = outputs.get(\"logits\")\n",
    "        # compute custom loss (we have 2 labels with greater weight on positive)\n",
    "        loss_fct = torch.nn.CrossEntropyLoss(weight=torch.tensor([0.5567, 4.9114], device=0))\n",
    "        loss = loss_fct(logits.view(-1, self.model.config.num_labels), labels.view(-1))\n",
    "        return (loss, outputs) if return_outputs else loss\n",
    "       \n",
    "def finetune(train, \n",
    "             test, \n",
    "             model_name,\n",
    "             tokenizer,\n",
    "             freeze=True, \n",
    "             batch_size=8, \n",
    "             epochs=3,\n",
    "             dropout=None,\n",
    "             compute_loss=False,\n",
    "             metric_for_best_model='f1',\n",
    "             exp='BERT_mask'):\n",
    "  try:\n",
    "      torch.cuda.empty_cache()\n",
    "      def tokenize_function(examples):\n",
    "        return tokenizer(examples[\"comment\"], padding=\"max_length\", truncation=True, return_tensors='pt', max_length=512)\n",
    "      train = train.map(tokenize_function, batched=True, remove_columns=['id', 'comment','Unnamed: 0', 'label'])\n",
    "      test = test.map(tokenize_function, batched=True, remove_columns=['id', 'comment','Unnamed: 0', 'label'])\n",
    "      print(train)\n",
    "      model = AutoModelForSequenceClassification.from_pretrained(model_name, num_labels=2, label2id=label2id, id2label=id2label)\n",
    "      if dropout:\n",
    "          model.config.hidden_dropout_prob = dropout\n",
    "      if freeze:\n",
    "        for name, param in model.named_parameters():\n",
    "          if 'classifier' not in name:\n",
    "            param.requires_grad = True\n",
    "      training_args = TrainingArguments(output_dir=f\"{model_name}_checkpoints\",\n",
    "                                  evaluation_strategy=\"epoch\",\n",
    "                                  save_strategy=\"epoch\",\n",
    "                                  per_device_train_batch_size=batch_size,\n",
    "                                  per_device_eval_batch_size=batch_size,\n",
    "                                  load_best_model_at_end=True,\n",
    "                                  metric_for_best_model=metric_for_best_model,\n",
    "                                  num_train_epochs=epochs)\n",
    "      \n",
    "      if compute_loss:\n",
    "          trainer = InfraTrainer(\n",
    "              model=model,\n",
    "              args=training_args,\n",
    "              train_dataset=train,\n",
    "              eval_dataset=test,\n",
    "              compute_metrics=compute_metrics\n",
    "          )\n",
    "      else:\n",
    "          trainer = Trainer(\n",
    "              model=model,\n",
    "              args=training_args,\n",
    "              train_dataset=train,\n",
    "              eval_dataset=test,\n",
    "              compute_metrics=compute_metrics\n",
    "          ) \n",
    "      print(trainer.label_names)\n",
    "      trainer.train()\n",
    "      trainer.save_model(f'{exp}_infrastructure_ft')\n",
    "  except Exception as e:\n",
    "    raise(e)\n",
    "  finally:\n",
    "      print('Deleting and clearing GPU memory')\n",
    "      del model\n",
    "      del trainer\n",
    "      import gc\n",
    "      gc.collect()\n",
    "      gc.collect()\n",
    "def eval(data, model_path):\n",
    "  pipe = pipeline(task='text-classification',\n",
    "                  model=model_path,\n",
    "                  tokenizer=tokenizer,\n",
    "                  padding=\"max_length\",\n",
    "                  truncation=True,\n",
    "                  max_length=512,\n",
    "                  device=0)\n",
    "  def predict(x):\n",
    "    x['predict'] = pipe(x['comment'])[0]['label']\n",
    "    return x\n",
    "  res = data.map(predict)\n",
    "  res = res.to_pandas()\n",
    "  res['predict'] = res['predict'].map(label2id)\n",
    "  print(f\"Precision Score: {sklearn.metrics.precision_score(res['labels'], res['predict'])}\")\n",
    "  print(f\"Accuracy Score: {sklearn.metrics.accuracy_score(res['labels'], res['predict'])}\")\n",
    "  print(f\"Balanced Accuracy Score: {sklearn.metrics.balanced_accuracy_score(res['labels'], res['predict'])}\")\n",
    "  print(f\"F1: {sklearn.metrics.f1_score(res['labels'], res['predict'])}\")\n",
    "  print(f\"Classification Report:\\n {sklearn.metrics.classification_report(res['label'], res['predict'])}\")\n",
    "  cm = sklearn.metrics.confusion_matrix(res['labels'], res['predict'], labels=[0, 1])\n",
    "  disp = sklearn.metrics.ConfusionMatrixDisplay(confusion_matrix=cm, display_labels=[0,1])\n",
    "  disp.plot()\n",
    "  plt.show()\n",
    "  return res\n",
    "def eval_variance(data, model_path):\n",
    "    pipe = pipeline(task='text-classification',\n",
    "                  model=model_path,\n",
    "                  tokenizer=tokenizer,\n",
    "                  padding=\"max_length\",\n",
    "                  truncation=True,\n",
    "                  max_length=512,\n",
    "                  device=0)\n",
    "    def predict(x):\n",
    "        x['predict'] = pipe(x['comment'])[0]['label']\n",
    "        return x\n",
    "    res = data.map(predict)\n",
    "    res = res.to_pandas()\n",
    "    res['predict'] = res['predict'].map(label2id)\n",
    "    rep = sklearn.metrics.classification_report(res['label'], res['predict'], output_dict=True)\n",
    "    precision, recall, f1, accuracy = rep['macro avg']['precision'], rep['macro avg']['recall'], rep['macro avg']['f1-score'], rep['accuracy']\n",
    "    return precision, recall, f1, accuracy\n",
    "\n",
    "def generate_evaluation_data(test, exp='BERT_mask', n=5):\n",
    "    mp, mr, mf, ma = [],[],[], []\n",
    "    for i in range(n):\n",
    "      c = test.train_test_split(test_size=0.3, seed=i)\n",
    "      precision, recall, f1, accuracy = eval_variance(c['train'], f'{exp}_infrastructure_ft')\n",
    "      mp.append(precision)\n",
    "      mr.append(recall)\n",
    "      mf.append(f1)\n",
    "      ma.append(accuracy)\n",
    "    results_table['model'].append(exp)\n",
    "    results_table['precision'].append(f'{np.mean(mp)} +- {np.var(mp)}')\n",
    "    results_table['recall'].append(f'{np.mean(mr)} +- {np.var(mr)}')\n",
    "    results_table['f1'].append(f'{np.mean(mf)} +- {np.var(mf)}')\n",
    "    results_table['accuracy'].append(f'{np.mean(ma)} +- {np.var(ma)}')"
   ]
  },
  {
   "cell_type": "code",
   "execution_count": 23,
   "id": "abea9024",
   "metadata": {
    "collapsed": true
   },
   "outputs": [
    {
     "data": {
      "application/vnd.jupyter.widget-view+json": {
       "model_id": "5f2e506358624ba6ba91d7c1e924eaed",
       "version_major": 2,
       "version_minor": 0
      },
      "text/plain": [
       "Map:   0%|          | 0/2662 [00:00<?, ? examples/s]"
      ]
     },
     "metadata": {},
     "output_type": "display_data"
    },
    {
     "name": "stdout",
     "output_type": "stream",
     "text": [
      "Dataset({\n",
      "    features: ['Unnamed: 0', 'id', 'comment', 'label', 'labels'],\n",
      "    num_rows: 2662\n",
      "})\n"
     ]
    },
    {
     "data": {
      "application/vnd.jupyter.widget-view+json": {
       "model_id": "2a23ad8bc39642f1a7b3682fa373e506",
       "version_major": 2,
       "version_minor": 0
      },
      "text/plain": [
       "Map:   0%|          | 0/1863 [00:00<?, ? examples/s]"
      ]
     },
     "metadata": {},
     "output_type": "display_data"
    },
    {
     "data": {
      "application/vnd.jupyter.widget-view+json": {
       "model_id": "fb92977d66d94241bdb6c853ea401887",
       "version_major": 2,
       "version_minor": 0
      },
      "text/plain": [
       "Map:   0%|          | 0/799 [00:00<?, ? examples/s]"
      ]
     },
     "metadata": {},
     "output_type": "display_data"
    },
    {
     "name": "stdout",
     "output_type": "stream",
     "text": [
      "Dataset({\n",
      "    features: ['labels', 'input_ids', 'token_type_ids', 'attention_mask'],\n",
      "    num_rows: 1863\n",
      "})\n",
      "['labels']\n",
      "{'eval_loss': 0.4622590243816376, 'eval_f1': 0.8488055787991025, 'eval_runtime': 4.15, 'eval_samples_per_second': 192.53, 'eval_steps_per_second': 3.133, 'epoch': 1.0}\n",
      "{'eval_loss': 0.3863871395587921, 'eval_f1': 0.8681950771055896, 'eval_runtime': 4.1658, 'eval_samples_per_second': 191.8, 'eval_steps_per_second': 3.121, 'epoch': 2.0}\n",
      "{'eval_loss': 0.4827236235141754, 'eval_f1': 0.913681962399193, 'eval_runtime': 4.1752, 'eval_samples_per_second': 191.366, 'eval_steps_per_second': 3.114, 'epoch': 3.0}\n",
      "{'eval_loss': 0.3978336751461029, 'eval_f1': 0.9155061830671034, 'eval_runtime': 4.1892, 'eval_samples_per_second': 190.73, 'eval_steps_per_second': 3.103, 'epoch': 4.0}\n",
      "{'eval_loss': 0.49780669808387756, 'eval_f1': 0.9239084900632921, 'eval_runtime': 4.197, 'eval_samples_per_second': 190.374, 'eval_steps_per_second': 3.097, 'epoch': 5.0}\n",
      "{'train_runtime': 151.5062, 'train_samples_per_second': 61.483, 'train_steps_per_second': 0.99, 'train_loss': 0.3253899129231771, 'epoch': 5.0}\n",
      "Deleting and clearing GPU memory\n"
     ]
    }
   ],
   "source": [
    "# Exp1 BERT_mask\n",
    "train, test = load_data('infrastructure.csv', mask=True, seed=42, split=0.3)\n",
    "finetune(train, \n",
    "         test, \n",
    "         'bert-base-cased', \n",
    "         AutoTokenizer.from_pretrained('bert-base-cased'), \n",
    "         compute_loss=True, freeze=True, \n",
    "         epochs=5, batch_size=32, \n",
    "         exp='BERT_mask')"
   ]
  },
  {
   "cell_type": "code",
   "execution_count": 24,
   "id": "cb58bfa7",
   "metadata": {
    "collapsed": true
   },
   "outputs": [
    {
     "name": "stdout",
     "output_type": "stream",
     "text": [
      "Dataset({\n",
      "    features: ['Unnamed: 0', 'id', 'comment', 'label', 'labels'],\n",
      "    num_rows: 2662\n",
      "})\n"
     ]
    },
    {
     "data": {
      "application/vnd.jupyter.widget-view+json": {
       "model_id": "265048bbb5384a1e92712f87ad8809f7",
       "version_major": 2,
       "version_minor": 0
      },
      "text/plain": [
       "Map:   0%|          | 0/1863 [00:00<?, ? examples/s]"
      ]
     },
     "metadata": {},
     "output_type": "display_data"
    },
    {
     "data": {
      "application/vnd.jupyter.widget-view+json": {
       "model_id": "a3d630c4e3c841398454162e1048ee5b",
       "version_major": 2,
       "version_minor": 0
      },
      "text/plain": [
       "Map:   0%|          | 0/799 [00:00<?, ? examples/s]"
      ]
     },
     "metadata": {},
     "output_type": "display_data"
    },
    {
     "name": "stdout",
     "output_type": "stream",
     "text": [
      "Dataset({\n",
      "    features: ['labels', 'input_ids', 'token_type_ids', 'attention_mask'],\n",
      "    num_rows: 1863\n",
      "})\n",
      "['labels']\n",
      "{'eval_loss': 0.46606793999671936, 'eval_f1': 0.8834685690095627, 'eval_runtime': 4.1933, 'eval_samples_per_second': 190.544, 'eval_steps_per_second': 3.1, 'epoch': 1.0}\n",
      "{'eval_loss': 0.34395670890808105, 'eval_f1': 0.8958106772120613, 'eval_runtime': 4.2061, 'eval_samples_per_second': 189.96, 'eval_steps_per_second': 3.091, 'epoch': 2.0}\n",
      "{'eval_loss': 0.4619446098804474, 'eval_f1': 0.9156214772011113, 'eval_runtime': 4.2093, 'eval_samples_per_second': 189.819, 'eval_steps_per_second': 3.088, 'epoch': 3.0}\n",
      "{'eval_loss': 0.4261991083621979, 'eval_f1': 0.9133312665296454, 'eval_runtime': 4.2119, 'eval_samples_per_second': 189.701, 'eval_steps_per_second': 3.086, 'epoch': 4.0}\n",
      "{'eval_loss': 0.5973544120788574, 'eval_f1': 0.9228613614154083, 'eval_runtime': 4.2044, 'eval_samples_per_second': 190.038, 'eval_steps_per_second': 3.092, 'epoch': 5.0}\n",
      "{'train_runtime': 152.8054, 'train_samples_per_second': 60.96, 'train_steps_per_second': 0.982, 'train_loss': 0.2574480438232422, 'epoch': 5.0}\n",
      "Deleting and clearing GPU memory\n"
     ]
    }
   ],
   "source": [
    "# Exp2 BERT_nomask\n",
    "train, test = load_data('infrastructure.csv', mask=False, seed=42, split=0.3)\n",
    "finetune(train, \n",
    "         test, \n",
    "         'bert-base-cased', \n",
    "         AutoTokenizer.from_pretrained('bert-base-cased'), \n",
    "         compute_loss=True, freeze=True, \n",
    "         epochs=5, batch_size=32, \n",
    "         exp='BERT_nomask')"
   ]
  },
  {
   "cell_type": "code",
   "execution_count": 25,
   "id": "0118653f",
   "metadata": {
    "collapsed": true
   },
   "outputs": [
    {
     "data": {
      "application/vnd.jupyter.widget-view+json": {
       "model_id": "2a6b3231f1ea421e802b9eec26eca9a7",
       "version_major": 2,
       "version_minor": 0
      },
      "text/plain": [
       "Map:   0%|          | 0/2662 [00:00<?, ? examples/s]"
      ]
     },
     "metadata": {},
     "output_type": "display_data"
    },
    {
     "name": "stdout",
     "output_type": "stream",
     "text": [
      "Dataset({\n",
      "    features: ['Unnamed: 0', 'id', 'comment', 'label', 'labels'],\n",
      "    num_rows: 2662\n",
      "})\n"
     ]
    },
    {
     "data": {
      "application/vnd.jupyter.widget-view+json": {
       "model_id": "499f5371b0c447a9aa97f37f6b821a18",
       "version_major": 2,
       "version_minor": 0
      },
      "text/plain": [
       "Map:   0%|          | 0/1863 [00:00<?, ? examples/s]"
      ]
     },
     "metadata": {},
     "output_type": "display_data"
    },
    {
     "data": {
      "application/vnd.jupyter.widget-view+json": {
       "model_id": "9a08017c3c2f4274b41664264e7a2f43",
       "version_major": 2,
       "version_minor": 0
      },
      "text/plain": [
       "Map:   0%|          | 0/799 [00:00<?, ? examples/s]"
      ]
     },
     "metadata": {},
     "output_type": "display_data"
    },
    {
     "name": "stdout",
     "output_type": "stream",
     "text": [
      "Dataset({\n",
      "    features: ['labels', 'input_ids', 'attention_mask'],\n",
      "    num_rows: 1863\n",
      "})\n",
      "['labels']\n",
      "{'eval_loss': 0.4948447048664093, 'eval_f1': 0.8169628087627483, 'eval_runtime': 13.365, 'eval_samples_per_second': 59.783, 'eval_steps_per_second': 1.871, 'epoch': 1.0}\n",
      "{'eval_loss': 1.2415260076522827, 'eval_f1': 0.8409850499756065, 'eval_runtime': 13.5512, 'eval_samples_per_second': 58.962, 'eval_steps_per_second': 1.845, 'epoch': 2.0}\n",
      "{'eval_loss': 0.5171976089477539, 'eval_f1': 0.8032947883418865, 'eval_runtime': 13.4062, 'eval_samples_per_second': 59.599, 'eval_steps_per_second': 1.865, 'epoch': 3.0}\n",
      "{'eval_loss': 0.6125231385231018, 'eval_f1': 0.9110265875944923, 'eval_runtime': 13.5691, 'eval_samples_per_second': 58.884, 'eval_steps_per_second': 1.842, 'epoch': 4.0}\n",
      "{'eval_loss': 0.6460419297218323, 'eval_f1': 0.9284772281633286, 'eval_runtime': 13.4117, 'eval_samples_per_second': 59.575, 'eval_steps_per_second': 1.864, 'epoch': 5.0}\n",
      "{'train_runtime': 519.3902, 'train_samples_per_second': 17.934, 'train_steps_per_second': 0.568, 'train_loss': 0.5224022299556409, 'epoch': 5.0}\n",
      "Deleting and clearing GPU memory\n"
     ]
    }
   ],
   "source": [
    "model_name = 'roberta-large'\n",
    "# Exp3 ROBERTA_mask\n",
    "train, test = load_data('infrastructure.csv', mask=True, seed=42, split=0.3)\n",
    "finetune(train, \n",
    "         test, \n",
    "         'roberta-large', \n",
    "         AutoTokenizer.from_pretrained('roberta-large'), \n",
    "         compute_loss=True, freeze=True, \n",
    "         epochs=5, batch_size=16, \n",
    "         exp='ROBERTA_mask')"
   ]
  },
  {
   "cell_type": "code",
   "execution_count": 34,
   "id": "cf8ee8b9",
   "metadata": {
    "collapsed": true
   },
   "outputs": [
    {
     "name": "stdout",
     "output_type": "stream",
     "text": [
      "Dataset({\n",
      "    features: ['Unnamed: 0', 'id', 'comment', 'label', 'labels'],\n",
      "    num_rows: 2662\n",
      "})\n"
     ]
    },
    {
     "data": {
      "application/vnd.jupyter.widget-view+json": {
       "model_id": "5565cb72459e490ab81afe3c6b181923",
       "version_major": 2,
       "version_minor": 0
      },
      "text/plain": [
       "Map:   0%|          | 0/1863 [00:00<?, ? examples/s]"
      ]
     },
     "metadata": {},
     "output_type": "display_data"
    },
    {
     "data": {
      "application/vnd.jupyter.widget-view+json": {
       "model_id": "b62222327e824073ae562d4b018e7b1c",
       "version_major": 2,
       "version_minor": 0
      },
      "text/plain": [
       "Map:   0%|          | 0/799 [00:00<?, ? examples/s]"
      ]
     },
     "metadata": {},
     "output_type": "display_data"
    },
    {
     "name": "stdout",
     "output_type": "stream",
     "text": [
      "Dataset({\n",
      "    features: ['labels', 'input_ids', 'attention_mask'],\n",
      "    num_rows: 1863\n",
      "})\n",
      "['labels']\n",
      "{'eval_loss': 0.6356980204582214, 'eval_f1': 0.8356711311474047, 'eval_runtime': 13.6784, 'eval_samples_per_second': 58.413, 'eval_steps_per_second': 1.828, 'epoch': 1.0}\n",
      "{'eval_loss': 0.40916019678115845, 'eval_f1': 0.8435921086693382, 'eval_runtime': 13.3727, 'eval_samples_per_second': 59.749, 'eval_steps_per_second': 1.869, 'epoch': 2.0}\n",
      "{'eval_loss': 0.47223132848739624, 'eval_f1': 0.8754515399442182, 'eval_runtime': 13.4114, 'eval_samples_per_second': 59.576, 'eval_steps_per_second': 1.864, 'epoch': 3.0}\n",
      "{'eval_loss': 0.4746869206428528, 'eval_f1': 0.8753101896990432, 'eval_runtime': 13.445, 'eval_samples_per_second': 59.427, 'eval_steps_per_second': 1.859, 'epoch': 4.0}\n",
      "{'eval_loss': 0.7546632885932922, 'eval_f1': 0.9190626224924059, 'eval_runtime': 13.4188, 'eval_samples_per_second': 59.543, 'eval_steps_per_second': 1.863, 'epoch': 5.0}\n",
      "{'train_runtime': 520.2512, 'train_samples_per_second': 17.905, 'train_steps_per_second': 0.567, 'train_loss': 0.4301669880495233, 'epoch': 5.0}\n",
      "Deleting and clearing GPU memory\n"
     ]
    }
   ],
   "source": [
    "# Exp4 ROBERTA_nomask\n",
    "train, test = load_data('infrastructure.csv', mask=False, seed=42, split=0.3)\n",
    "finetune(train, \n",
    "         test, \n",
    "         'roberta-large', \n",
    "         AutoTokenizer.from_pretrained('roberta-large'), \n",
    "         compute_loss=True, freeze=True, \n",
    "         epochs=5, batch_size=16, \n",
    "         exp='ROBERTA_nomask')"
   ]
  },
  {
   "cell_type": "code",
   "execution_count": 35,
   "id": "e19aae6e",
   "metadata": {
    "collapsed": true
   },
   "outputs": [
    {
     "data": {
      "application/vnd.jupyter.widget-view+json": {
       "model_id": "cfd8b71c70964d23814a2d358bc62f94",
       "version_major": 2,
       "version_minor": 0
      },
      "text/plain": [
       "Map:   0%|          | 0/2662 [00:00<?, ? examples/s]"
      ]
     },
     "metadata": {},
     "output_type": "display_data"
    },
    {
     "name": "stdout",
     "output_type": "stream",
     "text": [
      "Dataset({\n",
      "    features: ['Unnamed: 0', 'id', 'comment', 'label', 'labels'],\n",
      "    num_rows: 2662\n",
      "})\n"
     ]
    },
    {
     "data": {
      "application/vnd.jupyter.widget-view+json": {
       "model_id": "c882777a1a11406da0e64b7eca35def4",
       "version_major": 2,
       "version_minor": 0
      },
      "text/plain": [
       "Map:   0%|          | 0/559 [00:00<?, ? examples/s]"
      ]
     },
     "metadata": {},
     "output_type": "display_data"
    },
    {
     "name": "stderr",
     "output_type": "stream",
     "text": [
      "/home/mac9908/.local/lib/python3.10/site-packages/transformers/pipelines/base.py:1101: UserWarning: You seem to be using the pipelines sequentially on GPU. In order to maximize efficiency please use a dataset\n",
      "  warnings.warn(\n"
     ]
    },
    {
     "data": {
      "application/vnd.jupyter.widget-view+json": {
       "model_id": "2303a3e8860c4324938175622431215a",
       "version_major": 2,
       "version_minor": 0
      },
      "text/plain": [
       "Map:   0%|          | 0/559 [00:00<?, ? examples/s]"
      ]
     },
     "metadata": {},
     "output_type": "display_data"
    },
    {
     "name": "stderr",
     "output_type": "stream",
     "text": [
      "/home/mac9908/.local/lib/python3.10/site-packages/transformers/pipelines/base.py:1101: UserWarning: You seem to be using the pipelines sequentially on GPU. In order to maximize efficiency please use a dataset\n",
      "  warnings.warn(\n"
     ]
    },
    {
     "data": {
      "application/vnd.jupyter.widget-view+json": {
       "model_id": "cef239d69cdc4409bb68ffc299f2edf8",
       "version_major": 2,
       "version_minor": 0
      },
      "text/plain": [
       "Map:   0%|          | 0/559 [00:00<?, ? examples/s]"
      ]
     },
     "metadata": {},
     "output_type": "display_data"
    },
    {
     "name": "stderr",
     "output_type": "stream",
     "text": [
      "/home/mac9908/.local/lib/python3.10/site-packages/transformers/pipelines/base.py:1101: UserWarning: You seem to be using the pipelines sequentially on GPU. In order to maximize efficiency please use a dataset\n",
      "  warnings.warn(\n"
     ]
    },
    {
     "data": {
      "application/vnd.jupyter.widget-view+json": {
       "model_id": "5267d1e9415149a493b996506e8f4221",
       "version_major": 2,
       "version_minor": 0
      },
      "text/plain": [
       "Map:   0%|          | 0/559 [00:00<?, ? examples/s]"
      ]
     },
     "metadata": {},
     "output_type": "display_data"
    },
    {
     "name": "stderr",
     "output_type": "stream",
     "text": [
      "/home/mac9908/.local/lib/python3.10/site-packages/transformers/pipelines/base.py:1101: UserWarning: You seem to be using the pipelines sequentially on GPU. In order to maximize efficiency please use a dataset\n",
      "  warnings.warn(\n"
     ]
    },
    {
     "data": {
      "application/vnd.jupyter.widget-view+json": {
       "model_id": "314eceebde654487ace7bece0c26dbe5",
       "version_major": 2,
       "version_minor": 0
      },
      "text/plain": [
       "Map:   0%|          | 0/559 [00:00<?, ? examples/s]"
      ]
     },
     "metadata": {},
     "output_type": "display_data"
    },
    {
     "name": "stderr",
     "output_type": "stream",
     "text": [
      "/home/mac9908/.local/lib/python3.10/site-packages/transformers/pipelines/base.py:1101: UserWarning: You seem to be using the pipelines sequentially on GPU. In order to maximize efficiency please use a dataset\n",
      "  warnings.warn(\n"
     ]
    },
    {
     "name": "stdout",
     "output_type": "stream",
     "text": [
      "Dataset({\n",
      "    features: ['Unnamed: 0', 'id', 'comment', 'label', 'labels'],\n",
      "    num_rows: 2662\n",
      "})\n"
     ]
    },
    {
     "data": {
      "application/vnd.jupyter.widget-view+json": {
       "model_id": "6f4abd377fc24fb7978919482fb589fe",
       "version_major": 2,
       "version_minor": 0
      },
      "text/plain": [
       "Map:   0%|          | 0/559 [00:00<?, ? examples/s]"
      ]
     },
     "metadata": {},
     "output_type": "display_data"
    },
    {
     "name": "stderr",
     "output_type": "stream",
     "text": [
      "/home/mac9908/.local/lib/python3.10/site-packages/transformers/pipelines/base.py:1101: UserWarning: You seem to be using the pipelines sequentially on GPU. In order to maximize efficiency please use a dataset\n",
      "  warnings.warn(\n"
     ]
    },
    {
     "data": {
      "application/vnd.jupyter.widget-view+json": {
       "model_id": "78293e54ad684f35a578d5a16be2ea56",
       "version_major": 2,
       "version_minor": 0
      },
      "text/plain": [
       "Map:   0%|          | 0/559 [00:00<?, ? examples/s]"
      ]
     },
     "metadata": {},
     "output_type": "display_data"
    },
    {
     "name": "stderr",
     "output_type": "stream",
     "text": [
      "/home/mac9908/.local/lib/python3.10/site-packages/transformers/pipelines/base.py:1101: UserWarning: You seem to be using the pipelines sequentially on GPU. In order to maximize efficiency please use a dataset\n",
      "  warnings.warn(\n"
     ]
    },
    {
     "data": {
      "application/vnd.jupyter.widget-view+json": {
       "model_id": "3e2b8359282645e8b9b232f00c5e8de4",
       "version_major": 2,
       "version_minor": 0
      },
      "text/plain": [
       "Map:   0%|          | 0/559 [00:00<?, ? examples/s]"
      ]
     },
     "metadata": {},
     "output_type": "display_data"
    },
    {
     "name": "stderr",
     "output_type": "stream",
     "text": [
      "/home/mac9908/.local/lib/python3.10/site-packages/transformers/pipelines/base.py:1101: UserWarning: You seem to be using the pipelines sequentially on GPU. In order to maximize efficiency please use a dataset\n",
      "  warnings.warn(\n"
     ]
    },
    {
     "data": {
      "application/vnd.jupyter.widget-view+json": {
       "model_id": "2f1037ca91f7409a96f21b255a8a1296",
       "version_major": 2,
       "version_minor": 0
      },
      "text/plain": [
       "Map:   0%|          | 0/559 [00:00<?, ? examples/s]"
      ]
     },
     "metadata": {},
     "output_type": "display_data"
    },
    {
     "name": "stderr",
     "output_type": "stream",
     "text": [
      "/home/mac9908/.local/lib/python3.10/site-packages/transformers/pipelines/base.py:1101: UserWarning: You seem to be using the pipelines sequentially on GPU. In order to maximize efficiency please use a dataset\n",
      "  warnings.warn(\n"
     ]
    },
    {
     "data": {
      "application/vnd.jupyter.widget-view+json": {
       "model_id": "03c46d7564544d309c147529958e03e0",
       "version_major": 2,
       "version_minor": 0
      },
      "text/plain": [
       "Map:   0%|          | 0/559 [00:00<?, ? examples/s]"
      ]
     },
     "metadata": {},
     "output_type": "display_data"
    },
    {
     "name": "stderr",
     "output_type": "stream",
     "text": [
      "/home/mac9908/.local/lib/python3.10/site-packages/transformers/pipelines/base.py:1101: UserWarning: You seem to be using the pipelines sequentially on GPU. In order to maximize efficiency please use a dataset\n",
      "  warnings.warn(\n"
     ]
    },
    {
     "data": {
      "application/vnd.jupyter.widget-view+json": {
       "model_id": "36e7302fc6a845be9adb75eeb1a6bd35",
       "version_major": 2,
       "version_minor": 0
      },
      "text/plain": [
       "Map:   0%|          | 0/2662 [00:00<?, ? examples/s]"
      ]
     },
     "metadata": {},
     "output_type": "display_data"
    },
    {
     "name": "stdout",
     "output_type": "stream",
     "text": [
      "Dataset({\n",
      "    features: ['Unnamed: 0', 'id', 'comment', 'label', 'labels'],\n",
      "    num_rows: 2662\n",
      "})\n"
     ]
    },
    {
     "data": {
      "application/vnd.jupyter.widget-view+json": {
       "model_id": "f2269bf2ede84f3999130f42fb1e0f47",
       "version_major": 2,
       "version_minor": 0
      },
      "text/plain": [
       "Map:   0%|          | 0/559 [00:00<?, ? examples/s]"
      ]
     },
     "metadata": {},
     "output_type": "display_data"
    },
    {
     "name": "stderr",
     "output_type": "stream",
     "text": [
      "/home/mac9908/.local/lib/python3.10/site-packages/transformers/pipelines/base.py:1101: UserWarning: You seem to be using the pipelines sequentially on GPU. In order to maximize efficiency please use a dataset\n",
      "  warnings.warn(\n"
     ]
    },
    {
     "data": {
      "application/vnd.jupyter.widget-view+json": {
       "model_id": "ac2ea736b359485081ab73b3313c52d4",
       "version_major": 2,
       "version_minor": 0
      },
      "text/plain": [
       "Map:   0%|          | 0/559 [00:00<?, ? examples/s]"
      ]
     },
     "metadata": {},
     "output_type": "display_data"
    },
    {
     "name": "stderr",
     "output_type": "stream",
     "text": [
      "/home/mac9908/.local/lib/python3.10/site-packages/transformers/pipelines/base.py:1101: UserWarning: You seem to be using the pipelines sequentially on GPU. In order to maximize efficiency please use a dataset\n",
      "  warnings.warn(\n"
     ]
    },
    {
     "data": {
      "application/vnd.jupyter.widget-view+json": {
       "model_id": "b7d1a11d99bf4ebab0482a18b070cfc4",
       "version_major": 2,
       "version_minor": 0
      },
      "text/plain": [
       "Map:   0%|          | 0/559 [00:00<?, ? examples/s]"
      ]
     },
     "metadata": {},
     "output_type": "display_data"
    },
    {
     "name": "stderr",
     "output_type": "stream",
     "text": [
      "/home/mac9908/.local/lib/python3.10/site-packages/transformers/pipelines/base.py:1101: UserWarning: You seem to be using the pipelines sequentially on GPU. In order to maximize efficiency please use a dataset\n",
      "  warnings.warn(\n"
     ]
    },
    {
     "data": {
      "application/vnd.jupyter.widget-view+json": {
       "model_id": "b75c845f07944e679cdba69e27d8a276",
       "version_major": 2,
       "version_minor": 0
      },
      "text/plain": [
       "Map:   0%|          | 0/559 [00:00<?, ? examples/s]"
      ]
     },
     "metadata": {},
     "output_type": "display_data"
    },
    {
     "name": "stderr",
     "output_type": "stream",
     "text": [
      "/home/mac9908/.local/lib/python3.10/site-packages/transformers/pipelines/base.py:1101: UserWarning: You seem to be using the pipelines sequentially on GPU. In order to maximize efficiency please use a dataset\n",
      "  warnings.warn(\n"
     ]
    },
    {
     "data": {
      "application/vnd.jupyter.widget-view+json": {
       "model_id": "a6dff17727c24176a6f1f2f1a61c1ebc",
       "version_major": 2,
       "version_minor": 0
      },
      "text/plain": [
       "Map:   0%|          | 0/559 [00:00<?, ? examples/s]"
      ]
     },
     "metadata": {},
     "output_type": "display_data"
    },
    {
     "name": "stderr",
     "output_type": "stream",
     "text": [
      "/home/mac9908/.local/lib/python3.10/site-packages/transformers/pipelines/base.py:1101: UserWarning: You seem to be using the pipelines sequentially on GPU. In order to maximize efficiency please use a dataset\n",
      "  warnings.warn(\n"
     ]
    },
    {
     "name": "stdout",
     "output_type": "stream",
     "text": [
      "Dataset({\n",
      "    features: ['Unnamed: 0', 'id', 'comment', 'label', 'labels'],\n",
      "    num_rows: 2662\n",
      "})\n"
     ]
    },
    {
     "data": {
      "application/vnd.jupyter.widget-view+json": {
       "model_id": "956f73f57bab45848e1b5dfd7d16d9a9",
       "version_major": 2,
       "version_minor": 0
      },
      "text/plain": [
       "Map:   0%|          | 0/559 [00:00<?, ? examples/s]"
      ]
     },
     "metadata": {},
     "output_type": "display_data"
    },
    {
     "name": "stderr",
     "output_type": "stream",
     "text": [
      "/home/mac9908/.local/lib/python3.10/site-packages/transformers/pipelines/base.py:1101: UserWarning: You seem to be using the pipelines sequentially on GPU. In order to maximize efficiency please use a dataset\n",
      "  warnings.warn(\n"
     ]
    },
    {
     "data": {
      "application/vnd.jupyter.widget-view+json": {
       "model_id": "e210310c0cc44b6fae95e7aacad95827",
       "version_major": 2,
       "version_minor": 0
      },
      "text/plain": [
       "Map:   0%|          | 0/559 [00:00<?, ? examples/s]"
      ]
     },
     "metadata": {},
     "output_type": "display_data"
    },
    {
     "name": "stderr",
     "output_type": "stream",
     "text": [
      "/home/mac9908/.local/lib/python3.10/site-packages/transformers/pipelines/base.py:1101: UserWarning: You seem to be using the pipelines sequentially on GPU. In order to maximize efficiency please use a dataset\n",
      "  warnings.warn(\n"
     ]
    },
    {
     "data": {
      "application/vnd.jupyter.widget-view+json": {
       "model_id": "c2bd0f5734034f3d88b6fc4e839c3b09",
       "version_major": 2,
       "version_minor": 0
      },
      "text/plain": [
       "Map:   0%|          | 0/559 [00:00<?, ? examples/s]"
      ]
     },
     "metadata": {},
     "output_type": "display_data"
    },
    {
     "name": "stderr",
     "output_type": "stream",
     "text": [
      "/home/mac9908/.local/lib/python3.10/site-packages/transformers/pipelines/base.py:1101: UserWarning: You seem to be using the pipelines sequentially on GPU. In order to maximize efficiency please use a dataset\n",
      "  warnings.warn(\n"
     ]
    },
    {
     "data": {
      "application/vnd.jupyter.widget-view+json": {
       "model_id": "4c9eef10fc674ef4ae2641549a7dc4da",
       "version_major": 2,
       "version_minor": 0
      },
      "text/plain": [
       "Map:   0%|          | 0/559 [00:00<?, ? examples/s]"
      ]
     },
     "metadata": {},
     "output_type": "display_data"
    },
    {
     "name": "stderr",
     "output_type": "stream",
     "text": [
      "/home/mac9908/.local/lib/python3.10/site-packages/transformers/pipelines/base.py:1101: UserWarning: You seem to be using the pipelines sequentially on GPU. In order to maximize efficiency please use a dataset\n",
      "  warnings.warn(\n"
     ]
    },
    {
     "data": {
      "application/vnd.jupyter.widget-view+json": {
       "model_id": "dddcd6263d3542c2a2c10d8c3bb179f4",
       "version_major": 2,
       "version_minor": 0
      },
      "text/plain": [
       "Map:   0%|          | 0/559 [00:00<?, ? examples/s]"
      ]
     },
     "metadata": {},
     "output_type": "display_data"
    },
    {
     "name": "stderr",
     "output_type": "stream",
     "text": [
      "/home/mac9908/.local/lib/python3.10/site-packages/transformers/pipelines/base.py:1101: UserWarning: You seem to be using the pipelines sequentially on GPU. In order to maximize efficiency please use a dataset\n",
      "  warnings.warn(\n"
     ]
    },
    {
     "data": {
      "text/html": [
       "<div>\n",
       "<style scoped>\n",
       "    .dataframe tbody tr th:only-of-type {\n",
       "        vertical-align: middle;\n",
       "    }\n",
       "\n",
       "    .dataframe tbody tr th {\n",
       "        vertical-align: top;\n",
       "    }\n",
       "\n",
       "    .dataframe thead th {\n",
       "        text-align: right;\n",
       "    }\n",
       "</style>\n",
       "<table border=\"1\" class=\"dataframe\">\n",
       "  <thead>\n",
       "    <tr style=\"text-align: right;\">\n",
       "      <th></th>\n",
       "      <th>model</th>\n",
       "      <th>precision</th>\n",
       "      <th>recall</th>\n",
       "      <th>f1</th>\n",
       "      <th>accuracy</th>\n",
       "    </tr>\n",
       "  </thead>\n",
       "  <tbody>\n",
       "    <tr>\n",
       "      <th>0</th>\n",
       "      <td>BERT_mask</td>\n",
       "      <td>0.804009962289174 +- 0.0002091038893005009</td>\n",
       "      <td>0.8278386437627937 +- 0.00021321314028287236</td>\n",
       "      <td>0.8148501939347932 +- 0.00012478094556835366</td>\n",
       "      <td>0.9262969588550984 +- 1.8433120733740488e-05</td>\n",
       "    </tr>\n",
       "    <tr>\n",
       "      <th>1</th>\n",
       "      <td>BERT_nomask</td>\n",
       "      <td>0.793770596227169 +- 8.043359276791313e-05</td>\n",
       "      <td>0.8218811306448716 +- 0.00018427068156368125</td>\n",
       "      <td>0.8065604898528809 +- 5.373482574783937e-05</td>\n",
       "      <td>0.9223613595706619 +- 1.1008669327094961e-05</td>\n",
       "    </tr>\n",
       "    <tr>\n",
       "      <th>2</th>\n",
       "      <td>ROBERTA_mask</td>\n",
       "      <td>0.8222065523723666 +- 1.2891191958082072e-05</td>\n",
       "      <td>0.8270583652913046 +- 0.00038773415532411575</td>\n",
       "      <td>0.8240957544142992 +- 8.97521857147603e-05</td>\n",
       "      <td>0.9320214669051878 +- 3.45621013757637e-05</td>\n",
       "    </tr>\n",
       "    <tr>\n",
       "      <th>3</th>\n",
       "      <td>ROBERTA_nomask</td>\n",
       "      <td>0.7783101907180043 +- 8.005407560543732e-05</td>\n",
       "      <td>0.8268708083869303 +- 0.0001960106999305339</td>\n",
       "      <td>0.7992985386575718 +- 3.1725154171486e-05</td>\n",
       "      <td>0.9162790697674419 +- 1.8433120733740857e-05</td>\n",
       "    </tr>\n",
       "  </tbody>\n",
       "</table>\n",
       "</div>"
      ],
      "text/plain": [
       "            model                                     precision  \\\n",
       "0       BERT_mask    0.804009962289174 +- 0.0002091038893005009   \n",
       "1     BERT_nomask    0.793770596227169 +- 8.043359276791313e-05   \n",
       "2    ROBERTA_mask  0.8222065523723666 +- 1.2891191958082072e-05   \n",
       "3  ROBERTA_nomask   0.7783101907180043 +- 8.005407560543732e-05   \n",
       "\n",
       "                                         recall  \\\n",
       "0  0.8278386437627937 +- 0.00021321314028287236   \n",
       "1  0.8218811306448716 +- 0.00018427068156368125   \n",
       "2  0.8270583652913046 +- 0.00038773415532411575   \n",
       "3   0.8268708083869303 +- 0.0001960106999305339   \n",
       "\n",
       "                                             f1  \\\n",
       "0  0.8148501939347932 +- 0.00012478094556835366   \n",
       "1   0.8065604898528809 +- 5.373482574783937e-05   \n",
       "2    0.8240957544142992 +- 8.97521857147603e-05   \n",
       "3     0.7992985386575718 +- 3.1725154171486e-05   \n",
       "\n",
       "                                       accuracy  \n",
       "0  0.9262969588550984 +- 1.8433120733740488e-05  \n",
       "1  0.9223613595706619 +- 1.1008669327094961e-05  \n",
       "2    0.9320214669051878 +- 3.45621013757637e-05  \n",
       "3  0.9162790697674419 +- 1.8433120733740857e-05  "
      ]
     },
     "execution_count": 35,
     "metadata": {},
     "output_type": "execute_result"
    }
   ],
   "source": [
    "# Results Table\n",
    "results_table = {'model': [], 'precision': [], 'recall': [], 'f1': [], 'accuracy': []}\n",
    "model_name = 'bert-base-cased'\n",
    "tokenizer = AutoTokenizer.from_pretrained(model_name)\n",
    "train, test = load_data('infrastructure.csv', mask=True, seed=42, split=0.3)\n",
    "generate_evaluation_data(test, exp='BERT_mask')\n",
    "train, test = load_data('infrastructure.csv', mask=False, seed=42, split=0.3)\n",
    "generate_evaluation_data(test, exp='BERT_nomask')\n",
    "model_name = 'roberta-large'\n",
    "tokenizer = AutoTokenizer.from_pretrained(model_name)\n",
    "train, test = load_data('infrastructure.csv', mask=True, seed=42, split=0.3)\n",
    "generate_evaluation_data(test, exp='ROBERTA_mask')\n",
    "train, test = load_data('infrastructure.csv', mask=False, seed=42, split=0.3)\n",
    "generate_evaluation_data(test, exp='ROBERTA_nomask')\n"
   ]
  },
  {
   "cell_type": "code",
   "execution_count": 37,
   "id": "a2b2e31f",
   "metadata": {},
   "outputs": [
    {
     "data": {
      "text/html": [
       "<div>\n",
       "<style scoped>\n",
       "    .dataframe tbody tr th:only-of-type {\n",
       "        vertical-align: middle;\n",
       "    }\n",
       "\n",
       "    .dataframe tbody tr th {\n",
       "        vertical-align: top;\n",
       "    }\n",
       "\n",
       "    .dataframe thead th {\n",
       "        text-align: right;\n",
       "    }\n",
       "</style>\n",
       "<table border=\"1\" class=\"dataframe\">\n",
       "  <thead>\n",
       "    <tr style=\"text-align: right;\">\n",
       "      <th></th>\n",
       "      <th>model</th>\n",
       "      <th>precision</th>\n",
       "      <th>recall</th>\n",
       "      <th>f1</th>\n",
       "      <th>accuracy</th>\n",
       "    </tr>\n",
       "  </thead>\n",
       "  <tbody>\n",
       "    <tr>\n",
       "      <th>0</th>\n",
       "      <td>BERT_mask</td>\n",
       "      <td>0.804009962289174 +- 0.0002091038893005009</td>\n",
       "      <td>0.8278386437627937 +- 0.00021321314028287236</td>\n",
       "      <td>0.8148501939347932 +- 0.00012478094556835366</td>\n",
       "      <td>0.9262969588550984 +- 1.8433120733740488e-05</td>\n",
       "    </tr>\n",
       "    <tr>\n",
       "      <th>1</th>\n",
       "      <td>BERT_nomask</td>\n",
       "      <td>0.793770596227169 +- 8.043359276791313e-05</td>\n",
       "      <td>0.8218811306448716 +- 0.00018427068156368125</td>\n",
       "      <td>0.8065604898528809 +- 5.373482574783937e-05</td>\n",
       "      <td>0.9223613595706619 +- 1.1008669327094961e-05</td>\n",
       "    </tr>\n",
       "    <tr>\n",
       "      <th>2</th>\n",
       "      <td>ROBERTA_mask</td>\n",
       "      <td>0.8222065523723666 +- 1.2891191958082072e-05</td>\n",
       "      <td>0.8270583652913046 +- 0.00038773415532411575</td>\n",
       "      <td>0.8240957544142992 +- 8.97521857147603e-05</td>\n",
       "      <td>0.9320214669051878 +- 3.45621013757637e-05</td>\n",
       "    </tr>\n",
       "    <tr>\n",
       "      <th>3</th>\n",
       "      <td>ROBERTA_nomask</td>\n",
       "      <td>0.7783101907180043 +- 8.005407560543732e-05</td>\n",
       "      <td>0.8268708083869303 +- 0.0001960106999305339</td>\n",
       "      <td>0.7992985386575718 +- 3.1725154171486e-05</td>\n",
       "      <td>0.9162790697674419 +- 1.8433120733740857e-05</td>\n",
       "    </tr>\n",
       "  </tbody>\n",
       "</table>\n",
       "</div>"
      ],
      "text/plain": [
       "            model                                     precision  \\\n",
       "0       BERT_mask    0.804009962289174 +- 0.0002091038893005009   \n",
       "1     BERT_nomask    0.793770596227169 +- 8.043359276791313e-05   \n",
       "2    ROBERTA_mask  0.8222065523723666 +- 1.2891191958082072e-05   \n",
       "3  ROBERTA_nomask   0.7783101907180043 +- 8.005407560543732e-05   \n",
       "\n",
       "                                         recall  \\\n",
       "0  0.8278386437627937 +- 0.00021321314028287236   \n",
       "1  0.8218811306448716 +- 0.00018427068156368125   \n",
       "2  0.8270583652913046 +- 0.00038773415532411575   \n",
       "3   0.8268708083869303 +- 0.0001960106999305339   \n",
       "\n",
       "                                             f1  \\\n",
       "0  0.8148501939347932 +- 0.00012478094556835366   \n",
       "1   0.8065604898528809 +- 5.373482574783937e-05   \n",
       "2    0.8240957544142992 +- 8.97521857147603e-05   \n",
       "3     0.7992985386575718 +- 3.1725154171486e-05   \n",
       "\n",
       "                                       accuracy  \n",
       "0  0.9262969588550984 +- 1.8433120733740488e-05  \n",
       "1  0.9223613595706619 +- 1.1008669327094961e-05  \n",
       "2    0.9320214669051878 +- 3.45621013757637e-05  \n",
       "3  0.9162790697674419 +- 1.8433120733740857e-05  "
      ]
     },
     "execution_count": 37,
     "metadata": {},
     "output_type": "execute_result"
    }
   ],
   "source": [
    "pd.DataFrame.from_dict(results_table)"
   ]
  },
  {
   "cell_type": "code",
   "execution_count": 36,
   "id": "ab766da3",
   "metadata": {
    "collapsed": true
   },
   "outputs": [
    {
     "data": {
      "application/vnd.jupyter.widget-view+json": {
       "model_id": "6d5877f7e96e47329183cf0436ff8034",
       "version_major": 2,
       "version_minor": 0
      },
      "text/plain": [
       "Map:   0%|          | 0/2662 [00:00<?, ? examples/s]"
      ]
     },
     "metadata": {},
     "output_type": "display_data"
    },
    {
     "name": "stdout",
     "output_type": "stream",
     "text": [
      "Dataset({\n",
      "    features: ['Unnamed: 0', 'id', 'comment', 'label', 'labels'],\n",
      "    num_rows: 2662\n",
      "})\n"
     ]
    },
    {
     "data": {
      "application/vnd.jupyter.widget-view+json": {
       "model_id": "02d72d76a0104092aeaae90ee921a090",
       "version_major": 2,
       "version_minor": 0
      },
      "text/plain": [
       "Map:   0%|          | 0/559 [00:00<?, ? examples/s]"
      ]
     },
     "metadata": {},
     "output_type": "display_data"
    },
    {
     "name": "stderr",
     "output_type": "stream",
     "text": [
      "/home/mac9908/.local/lib/python3.10/site-packages/transformers/pipelines/base.py:1101: UserWarning: You seem to be using the pipelines sequentially on GPU. In order to maximize efficiency please use a dataset\n",
      "  warnings.warn(\n"
     ]
    },
    {
     "data": {
      "application/vnd.jupyter.widget-view+json": {
       "model_id": "9a70722d2a3d4ad1af24ad9267427485",
       "version_major": 2,
       "version_minor": 0
      },
      "text/plain": [
       "Map:   0%|          | 0/559 [00:00<?, ? examples/s]"
      ]
     },
     "metadata": {},
     "output_type": "display_data"
    },
    {
     "name": "stderr",
     "output_type": "stream",
     "text": [
      "/home/mac9908/.local/lib/python3.10/site-packages/transformers/pipelines/base.py:1101: UserWarning: You seem to be using the pipelines sequentially on GPU. In order to maximize efficiency please use a dataset\n",
      "  warnings.warn(\n"
     ]
    },
    {
     "data": {
      "application/vnd.jupyter.widget-view+json": {
       "model_id": "862ae711f5d645c180564030bc7db4d7",
       "version_major": 2,
       "version_minor": 0
      },
      "text/plain": [
       "Map:   0%|          | 0/559 [00:00<?, ? examples/s]"
      ]
     },
     "metadata": {},
     "output_type": "display_data"
    },
    {
     "name": "stderr",
     "output_type": "stream",
     "text": [
      "/home/mac9908/.local/lib/python3.10/site-packages/transformers/pipelines/base.py:1101: UserWarning: You seem to be using the pipelines sequentially on GPU. In order to maximize efficiency please use a dataset\n",
      "  warnings.warn(\n"
     ]
    },
    {
     "data": {
      "application/vnd.jupyter.widget-view+json": {
       "model_id": "685d130bdf7241058e562bce72ed1211",
       "version_major": 2,
       "version_minor": 0
      },
      "text/plain": [
       "Map:   0%|          | 0/559 [00:00<?, ? examples/s]"
      ]
     },
     "metadata": {},
     "output_type": "display_data"
    },
    {
     "name": "stderr",
     "output_type": "stream",
     "text": [
      "/home/mac9908/.local/lib/python3.10/site-packages/transformers/pipelines/base.py:1101: UserWarning: You seem to be using the pipelines sequentially on GPU. In order to maximize efficiency please use a dataset\n",
      "  warnings.warn(\n"
     ]
    },
    {
     "data": {
      "application/vnd.jupyter.widget-view+json": {
       "model_id": "c824ffcb761045cbac898a0fb662fc5d",
       "version_major": 2,
       "version_minor": 0
      },
      "text/plain": [
       "Map:   0%|          | 0/559 [00:00<?, ? examples/s]"
      ]
     },
     "metadata": {},
     "output_type": "display_data"
    },
    {
     "name": "stderr",
     "output_type": "stream",
     "text": [
      "/home/mac9908/.local/lib/python3.10/site-packages/transformers/pipelines/base.py:1101: UserWarning: You seem to be using the pipelines sequentially on GPU. In order to maximize efficiency please use a dataset\n",
      "  warnings.warn(\n"
     ]
    },
    {
     "name": "stdout",
     "output_type": "stream",
     "text": [
      "Dataset({\n",
      "    features: ['Unnamed: 0', 'id', 'comment', 'label', 'labels'],\n",
      "    num_rows: 2662\n",
      "})\n"
     ]
    },
    {
     "data": {
      "application/vnd.jupyter.widget-view+json": {
       "model_id": "712541d89c524eb5887040c0714db668",
       "version_major": 2,
       "version_minor": 0
      },
      "text/plain": [
       "Map:   0%|          | 0/559 [00:00<?, ? examples/s]"
      ]
     },
     "metadata": {},
     "output_type": "display_data"
    },
    {
     "name": "stderr",
     "output_type": "stream",
     "text": [
      "/home/mac9908/.local/lib/python3.10/site-packages/transformers/pipelines/base.py:1101: UserWarning: You seem to be using the pipelines sequentially on GPU. In order to maximize efficiency please use a dataset\n",
      "  warnings.warn(\n"
     ]
    },
    {
     "data": {
      "application/vnd.jupyter.widget-view+json": {
       "model_id": "66dc766518294b45aa2710c49b44a063",
       "version_major": 2,
       "version_minor": 0
      },
      "text/plain": [
       "Map:   0%|          | 0/559 [00:00<?, ? examples/s]"
      ]
     },
     "metadata": {},
     "output_type": "display_data"
    },
    {
     "name": "stderr",
     "output_type": "stream",
     "text": [
      "/home/mac9908/.local/lib/python3.10/site-packages/transformers/pipelines/base.py:1101: UserWarning: You seem to be using the pipelines sequentially on GPU. In order to maximize efficiency please use a dataset\n",
      "  warnings.warn(\n"
     ]
    },
    {
     "data": {
      "application/vnd.jupyter.widget-view+json": {
       "model_id": "a937e996a81046e09f2b243496ef820b",
       "version_major": 2,
       "version_minor": 0
      },
      "text/plain": [
       "Map:   0%|          | 0/559 [00:00<?, ? examples/s]"
      ]
     },
     "metadata": {},
     "output_type": "display_data"
    },
    {
     "name": "stderr",
     "output_type": "stream",
     "text": [
      "/home/mac9908/.local/lib/python3.10/site-packages/transformers/pipelines/base.py:1101: UserWarning: You seem to be using the pipelines sequentially on GPU. In order to maximize efficiency please use a dataset\n",
      "  warnings.warn(\n"
     ]
    },
    {
     "data": {
      "application/vnd.jupyter.widget-view+json": {
       "model_id": "3e7ec745a82342e093ee3faa457bb32b",
       "version_major": 2,
       "version_minor": 0
      },
      "text/plain": [
       "Map:   0%|          | 0/559 [00:00<?, ? examples/s]"
      ]
     },
     "metadata": {},
     "output_type": "display_data"
    },
    {
     "name": "stderr",
     "output_type": "stream",
     "text": [
      "/home/mac9908/.local/lib/python3.10/site-packages/transformers/pipelines/base.py:1101: UserWarning: You seem to be using the pipelines sequentially on GPU. In order to maximize efficiency please use a dataset\n",
      "  warnings.warn(\n"
     ]
    },
    {
     "data": {
      "application/vnd.jupyter.widget-view+json": {
       "model_id": "9ad18a6f3cd44b73afe210ddbf263381",
       "version_major": 2,
       "version_minor": 0
      },
      "text/plain": [
       "Map:   0%|          | 0/559 [00:00<?, ? examples/s]"
      ]
     },
     "metadata": {},
     "output_type": "display_data"
    },
    {
     "name": "stderr",
     "output_type": "stream",
     "text": [
      "/home/mac9908/.local/lib/python3.10/site-packages/transformers/pipelines/base.py:1101: UserWarning: You seem to be using the pipelines sequentially on GPU. In order to maximize efficiency please use a dataset\n",
      "  warnings.warn(\n"
     ]
    },
    {
     "data": {
      "application/vnd.jupyter.widget-view+json": {
       "model_id": "44512ea2dc024ab39cac30e2e39649aa",
       "version_major": 2,
       "version_minor": 0
      },
      "text/plain": [
       "Map:   0%|          | 0/2662 [00:00<?, ? examples/s]"
      ]
     },
     "metadata": {},
     "output_type": "display_data"
    },
    {
     "name": "stdout",
     "output_type": "stream",
     "text": [
      "Dataset({\n",
      "    features: ['Unnamed: 0', 'id', 'comment', 'label', 'labels'],\n",
      "    num_rows: 2662\n",
      "})\n"
     ]
    },
    {
     "data": {
      "application/vnd.jupyter.widget-view+json": {
       "model_id": "5c68b5400d5142e89d981d8477475cb8",
       "version_major": 2,
       "version_minor": 0
      },
      "text/plain": [
       "Map:   0%|          | 0/559 [00:00<?, ? examples/s]"
      ]
     },
     "metadata": {},
     "output_type": "display_data"
    },
    {
     "name": "stderr",
     "output_type": "stream",
     "text": [
      "/home/mac9908/.local/lib/python3.10/site-packages/transformers/pipelines/base.py:1101: UserWarning: You seem to be using the pipelines sequentially on GPU. In order to maximize efficiency please use a dataset\n",
      "  warnings.warn(\n"
     ]
    },
    {
     "data": {
      "application/vnd.jupyter.widget-view+json": {
       "model_id": "218424cc47ef4f5c959b2b716ace64c5",
       "version_major": 2,
       "version_minor": 0
      },
      "text/plain": [
       "Map:   0%|          | 0/559 [00:00<?, ? examples/s]"
      ]
     },
     "metadata": {},
     "output_type": "display_data"
    },
    {
     "name": "stderr",
     "output_type": "stream",
     "text": [
      "/home/mac9908/.local/lib/python3.10/site-packages/transformers/pipelines/base.py:1101: UserWarning: You seem to be using the pipelines sequentially on GPU. In order to maximize efficiency please use a dataset\n",
      "  warnings.warn(\n"
     ]
    },
    {
     "data": {
      "application/vnd.jupyter.widget-view+json": {
       "model_id": "b6c0cc3ddcac4115afd9e4eb95057eb9",
       "version_major": 2,
       "version_minor": 0
      },
      "text/plain": [
       "Map:   0%|          | 0/559 [00:00<?, ? examples/s]"
      ]
     },
     "metadata": {},
     "output_type": "display_data"
    },
    {
     "name": "stderr",
     "output_type": "stream",
     "text": [
      "/home/mac9908/.local/lib/python3.10/site-packages/transformers/pipelines/base.py:1101: UserWarning: You seem to be using the pipelines sequentially on GPU. In order to maximize efficiency please use a dataset\n",
      "  warnings.warn(\n"
     ]
    },
    {
     "data": {
      "application/vnd.jupyter.widget-view+json": {
       "model_id": "fcf7477894f04088a892da7457615be1",
       "version_major": 2,
       "version_minor": 0
      },
      "text/plain": [
       "Map:   0%|          | 0/559 [00:00<?, ? examples/s]"
      ]
     },
     "metadata": {},
     "output_type": "display_data"
    },
    {
     "name": "stderr",
     "output_type": "stream",
     "text": [
      "/home/mac9908/.local/lib/python3.10/site-packages/transformers/pipelines/base.py:1101: UserWarning: You seem to be using the pipelines sequentially on GPU. In order to maximize efficiency please use a dataset\n",
      "  warnings.warn(\n"
     ]
    },
    {
     "data": {
      "application/vnd.jupyter.widget-view+json": {
       "model_id": "9adab895f11249f2ba41d549f914ac9b",
       "version_major": 2,
       "version_minor": 0
      },
      "text/plain": [
       "Map:   0%|          | 0/559 [00:00<?, ? examples/s]"
      ]
     },
     "metadata": {},
     "output_type": "display_data"
    },
    {
     "name": "stderr",
     "output_type": "stream",
     "text": [
      "/home/mac9908/.local/lib/python3.10/site-packages/transformers/pipelines/base.py:1101: UserWarning: You seem to be using the pipelines sequentially on GPU. In order to maximize efficiency please use a dataset\n",
      "  warnings.warn(\n"
     ]
    },
    {
     "name": "stdout",
     "output_type": "stream",
     "text": [
      "Dataset({\n",
      "    features: ['Unnamed: 0', 'id', 'comment', 'label', 'labels'],\n",
      "    num_rows: 2662\n",
      "})\n"
     ]
    },
    {
     "data": {
      "application/vnd.jupyter.widget-view+json": {
       "model_id": "723dee2f6907424dad230860c6449d81",
       "version_major": 2,
       "version_minor": 0
      },
      "text/plain": [
       "Map:   0%|          | 0/559 [00:00<?, ? examples/s]"
      ]
     },
     "metadata": {},
     "output_type": "display_data"
    },
    {
     "name": "stderr",
     "output_type": "stream",
     "text": [
      "/home/mac9908/.local/lib/python3.10/site-packages/transformers/pipelines/base.py:1101: UserWarning: You seem to be using the pipelines sequentially on GPU. In order to maximize efficiency please use a dataset\n",
      "  warnings.warn(\n"
     ]
    },
    {
     "data": {
      "application/vnd.jupyter.widget-view+json": {
       "model_id": "30358d5347eb4fc7a95e95e48bd46001",
       "version_major": 2,
       "version_minor": 0
      },
      "text/plain": [
       "Map:   0%|          | 0/559 [00:00<?, ? examples/s]"
      ]
     },
     "metadata": {},
     "output_type": "display_data"
    },
    {
     "name": "stderr",
     "output_type": "stream",
     "text": [
      "/home/mac9908/.local/lib/python3.10/site-packages/transformers/pipelines/base.py:1101: UserWarning: You seem to be using the pipelines sequentially on GPU. In order to maximize efficiency please use a dataset\n",
      "  warnings.warn(\n"
     ]
    },
    {
     "data": {
      "application/vnd.jupyter.widget-view+json": {
       "model_id": "2fe7a9c090f9403d8107352db92c9d34",
       "version_major": 2,
       "version_minor": 0
      },
      "text/plain": [
       "Map:   0%|          | 0/559 [00:00<?, ? examples/s]"
      ]
     },
     "metadata": {},
     "output_type": "display_data"
    },
    {
     "name": "stderr",
     "output_type": "stream",
     "text": [
      "/home/mac9908/.local/lib/python3.10/site-packages/transformers/pipelines/base.py:1101: UserWarning: You seem to be using the pipelines sequentially on GPU. In order to maximize efficiency please use a dataset\n",
      "  warnings.warn(\n"
     ]
    },
    {
     "data": {
      "application/vnd.jupyter.widget-view+json": {
       "model_id": "28fb47c649fa496cac3f26ef98e5056e",
       "version_major": 2,
       "version_minor": 0
      },
      "text/plain": [
       "Map:   0%|          | 0/559 [00:00<?, ? examples/s]"
      ]
     },
     "metadata": {},
     "output_type": "display_data"
    },
    {
     "name": "stderr",
     "output_type": "stream",
     "text": [
      "/home/mac9908/.local/lib/python3.10/site-packages/transformers/pipelines/base.py:1101: UserWarning: You seem to be using the pipelines sequentially on GPU. In order to maximize efficiency please use a dataset\n",
      "  warnings.warn(\n"
     ]
    },
    {
     "data": {
      "application/vnd.jupyter.widget-view+json": {
       "model_id": "86a5720a50ba4dabafea29d21251a18e",
       "version_major": 2,
       "version_minor": 0
      },
      "text/plain": [
       "Map:   0%|          | 0/559 [00:00<?, ? examples/s]"
      ]
     },
     "metadata": {},
     "output_type": "display_data"
    },
    {
     "name": "stderr",
     "output_type": "stream",
     "text": [
      "/home/mac9908/.local/lib/python3.10/site-packages/transformers/pipelines/base.py:1101: UserWarning: You seem to be using the pipelines sequentially on GPU. In order to maximize efficiency please use a dataset\n",
      "  warnings.warn(\n"
     ]
    },
    {
     "data": {
      "text/html": [
       "<div>\n",
       "<style scoped>\n",
       "    .dataframe tbody tr th:only-of-type {\n",
       "        vertical-align: middle;\n",
       "    }\n",
       "\n",
       "    .dataframe tbody tr th {\n",
       "        vertical-align: top;\n",
       "    }\n",
       "\n",
       "    .dataframe thead th {\n",
       "        text-align: right;\n",
       "    }\n",
       "</style>\n",
       "<table border=\"1\" class=\"dataframe\">\n",
       "  <thead>\n",
       "    <tr style=\"text-align: right;\">\n",
       "      <th></th>\n",
       "      <th>model</th>\n",
       "      <th>precision</th>\n",
       "      <th>recall</th>\n",
       "      <th>f1</th>\n",
       "      <th>accuracy</th>\n",
       "    </tr>\n",
       "  </thead>\n",
       "  <tbody>\n",
       "    <tr>\n",
       "      <th>0</th>\n",
       "      <td>BERT_mask</td>\n",
       "      <td>0.804009962289174 +- 0.0002091038893005009</td>\n",
       "      <td>0.8278386437627937 +- 0.00021321314028287236</td>\n",
       "      <td>0.8148501939347932 +- 0.00012478094556835366</td>\n",
       "      <td>0.9262969588550984 +- 1.8433120733740488e-05</td>\n",
       "    </tr>\n",
       "    <tr>\n",
       "      <th>1</th>\n",
       "      <td>BERT_nomask</td>\n",
       "      <td>0.793770596227169 +- 8.043359276791313e-05</td>\n",
       "      <td>0.8218811306448716 +- 0.00018427068156368125</td>\n",
       "      <td>0.8065604898528809 +- 5.373482574783937e-05</td>\n",
       "      <td>0.9223613595706619 +- 1.1008669327094961e-05</td>\n",
       "    </tr>\n",
       "    <tr>\n",
       "      <th>2</th>\n",
       "      <td>ROBERTA_mask</td>\n",
       "      <td>0.8222065523723666 +- 1.2891191958082072e-05</td>\n",
       "      <td>0.8270583652913046 +- 0.00038773415532411575</td>\n",
       "      <td>0.8240957544142992 +- 8.97521857147603e-05</td>\n",
       "      <td>0.9320214669051878 +- 3.45621013757637e-05</td>\n",
       "    </tr>\n",
       "    <tr>\n",
       "      <th>3</th>\n",
       "      <td>ROBERTA_nomask</td>\n",
       "      <td>0.7783101907180043 +- 8.005407560543732e-05</td>\n",
       "      <td>0.8268708083869303 +- 0.0001960106999305339</td>\n",
       "      <td>0.7992985386575718 +- 3.1725154171486e-05</td>\n",
       "      <td>0.9162790697674419 +- 1.8433120733740857e-05</td>\n",
       "    </tr>\n",
       "  </tbody>\n",
       "</table>\n",
       "</div>"
      ],
      "text/plain": [
       "            model                                     precision  \\\n",
       "0       BERT_mask    0.804009962289174 +- 0.0002091038893005009   \n",
       "1     BERT_nomask    0.793770596227169 +- 8.043359276791313e-05   \n",
       "2    ROBERTA_mask  0.8222065523723666 +- 1.2891191958082072e-05   \n",
       "3  ROBERTA_nomask   0.7783101907180043 +- 8.005407560543732e-05   \n",
       "\n",
       "                                         recall  \\\n",
       "0  0.8278386437627937 +- 0.00021321314028287236   \n",
       "1  0.8218811306448716 +- 0.00018427068156368125   \n",
       "2  0.8270583652913046 +- 0.00038773415532411575   \n",
       "3   0.8268708083869303 +- 0.0001960106999305339   \n",
       "\n",
       "                                             f1  \\\n",
       "0  0.8148501939347932 +- 0.00012478094556835366   \n",
       "1   0.8065604898528809 +- 5.373482574783937e-05   \n",
       "2    0.8240957544142992 +- 8.97521857147603e-05   \n",
       "3     0.7992985386575718 +- 3.1725154171486e-05   \n",
       "\n",
       "                                       accuracy  \n",
       "0  0.9262969588550984 +- 1.8433120733740488e-05  \n",
       "1  0.9223613595706619 +- 1.1008669327094961e-05  \n",
       "2    0.9320214669051878 +- 3.45621013757637e-05  \n",
       "3  0.9162790697674419 +- 1.8433120733740857e-05  "
      ]
     },
     "execution_count": 36,
     "metadata": {},
     "output_type": "execute_result"
    }
   ],
   "source": [
    "# Results Table\n",
    "results_table = {'model': [], 'precision': [], 'recall': [], 'f1': [], 'accuracy': []}\n",
    "model_name = 'bert-base-cased'\n",
    "tokenizer = AutoTokenizer.from_pretrained(model_name)\n",
    "train, test = load_data('infrastructure.csv', mask=True, seed=42, split=0.3)\n",
    "generate_evaluation_data(test, exp='BERT_mask')\n",
    "train, test = load_data('infrastructure.csv', mask=False, seed=42, split=0.3)\n",
    "generate_evaluation_data(test, exp='BERT_nomask')\n",
    "model_name = 'roberta-large'\n",
    "tokenizer = AutoTokenizer.from_pretrained(model_name)\n",
    "train, test = load_data('infrastructure.csv', mask=True, seed=42, split=0.3)\n",
    "generate_evaluation_data(test, exp='ROBERTA_mask')\n",
    "train, test = load_data('infrastructure.csv', mask=False, seed=42, split=0.3)\n",
    "generate_evaluation_data(test, exp='ROBERTA_nomask')\n",
    "pd.DataFrame.from_dict(results_table)"
   ]
  },
  {
   "cell_type": "markdown",
   "id": "8d48def2",
   "metadata": {},
   "source": [
    "## Experiment 1 Masked Locations"
   ]
  },
  {
   "cell_type": "code",
   "execution_count": null,
   "id": "ce1d2a29",
   "metadata": {
    "scrolled": true
   },
   "outputs": [],
   "source": [
    "train, test = load_data('infrastructure.csv', mask=False, seed=42, split=0.3)\n",
    "print(f\"Distribution of train set: {train.to_pandas().groupby('labels')['labels'].count()}\")\n",
    "print(f\"Distribution of test set: {test.to_pandas().groupby('labels')['labels'].count()}\")\n",
    "print(train['comment'][6])"
   ]
  },
  {
   "cell_type": "code",
   "execution_count": null,
   "id": "4bf7bcb8",
   "metadata": {},
   "outputs": [],
   "source": [
    "finetune(train, test, model_name, freeze=True, epochs=5, batch_size=32)"
   ]
  },
  {
   "cell_type": "code",
   "execution_count": null,
   "id": "9c8e82a1",
   "metadata": {},
   "outputs": [],
   "source": [
    "generate_evaluation_data(test)"
   ]
  },
  {
   "cell_type": "code",
   "execution_count": null,
   "id": "651c283e",
   "metadata": {},
   "outputs": [],
   "source": [
    "train_pred = eval(train, f'{model_name}_infrastructure_ft')"
   ]
  },
  {
   "cell_type": "code",
   "execution_count": null,
   "id": "e013fcaf",
   "metadata": {},
   "outputs": [],
   "source": [
    "test_pred = eval(test, f'{model_name}_infrastructure_ft')"
   ]
  },
  {
   "cell_type": "code",
   "execution_count": null,
   "id": "5c678507",
   "metadata": {},
   "outputs": [],
   "source": [
    "t = test_pred[test_pred['predict']==1]\n",
    "t[t['labels']==1]"
   ]
  },
  {
   "cell_type": "markdown",
   "id": "ede0e4ed",
   "metadata": {},
   "source": [
    "## Experiment 2 No Masked Locations"
   ]
  },
  {
   "cell_type": "code",
   "execution_count": null,
   "id": "a8355dfb",
   "metadata": {},
   "outputs": [],
   "source": [
    "train, test = load_data('infrastructure.csv', mask=False, seed=42, split=0.3)\n",
    "print(f\"Distribution of train set: {train.to_pandas().groupby('labels')['labels'].count()}\")\n",
    "print(f\"Distribution of test set: {test.to_pandas().groupby('labels')['labels'].count()}\")\n",
    "print(train['comment'][6])"
   ]
  },
  {
   "cell_type": "code",
   "execution_count": null,
   "id": "ba58c79d",
   "metadata": {},
   "outputs": [],
   "source": [
    "finetune(train, test, model_name, freeze=False, epochs=5, batch_size=32)"
   ]
  },
  {
   "cell_type": "code",
   "execution_count": null,
   "id": "03a35a3f",
   "metadata": {},
   "outputs": [],
   "source": [
    "generate_evaluation_data(test, exp='BERT_nomask')"
   ]
  },
  {
   "cell_type": "code",
   "execution_count": null,
   "id": "1e5dba59",
   "metadata": {},
   "outputs": [],
   "source": [
    "test_pred = eval(test, f'{model_name}_infrastructure_ft')"
   ]
  },
  {
   "cell_type": "code",
   "execution_count": null,
   "id": "781c71b4",
   "metadata": {},
   "outputs": [],
   "source": [
    "train_pred = eval(train, f'{model_name}_infrastructure_ft')"
   ]
  },
  {
   "cell_type": "markdown",
   "id": "25baab8c",
   "metadata": {},
   "source": [
    "# ROBERTA"
   ]
  },
  {
   "cell_type": "code",
   "execution_count": null,
   "id": "6d300a45",
   "metadata": {},
   "outputs": [],
   "source": [
    "model_name = 'roberta-large'\n",
    "tokenizer = AutoTokenizer.from_pretrained(model_name)"
   ]
  },
  {
   "cell_type": "markdown",
   "id": "8fdfd8df",
   "metadata": {},
   "source": [
    "## Experiment 1 Masked Locations"
   ]
  },
  {
   "cell_type": "code",
   "execution_count": null,
   "id": "275ea386",
   "metadata": {},
   "outputs": [],
   "source": [
    "train, test = load_data('infrastructure.csv', mask=True, seed=42, split=0.3)\n",
    "print(f\"Distribution of train set: {train.to_pandas().groupby('labels')['labels'].count()}\")\n",
    "print(f\"Distribution of test set: {test.to_pandas().groupby('labels')['labels'].count()}\")\n",
    "print(train['comment'][6])"
   ]
  },
  {
   "cell_type": "code",
   "execution_count": null,
   "id": "130757ef",
   "metadata": {},
   "outputs": [],
   "source": [
    "finetune(train, test, model_name, compute_loss=True, freeze=True, epochs=5, batch_size=16)"
   ]
  },
  {
   "cell_type": "code",
   "execution_count": null,
   "id": "13da867b",
   "metadata": {},
   "outputs": [],
   "source": [
    "generate_evaluation_data(test, exp='ROBERTA_mask')"
   ]
  },
  {
   "cell_type": "code",
   "execution_count": null,
   "id": "9a9350a2",
   "metadata": {},
   "outputs": [],
   "source": [
    "test_pred = eval(test, f'{model_name}_infrastructure_ft')"
   ]
  },
  {
   "cell_type": "code",
   "execution_count": null,
   "id": "8396618a",
   "metadata": {},
   "outputs": [],
   "source": [
    "train_pred = eval(train, f'{model_name}_infrastructure_ft')"
   ]
  },
  {
   "cell_type": "markdown",
   "id": "fd594fa6",
   "metadata": {},
   "source": [
    "## Experiment 2 No Masked Locations"
   ]
  },
  {
   "cell_type": "code",
   "execution_count": null,
   "id": "f2dfacad",
   "metadata": {},
   "outputs": [],
   "source": [
    "model_name = 'roberta-large'\n",
    "tokenizer = AutoTokenizer.from_pretrained(model_name)\n",
    "train, test = load_data('infrastructure.csv', mask=False, seed=42, split=0.3)\n",
    "print(f\"Distribution of train set: {train.to_pandas().groupby('labels')['labels'].count()}\")\n",
    "print(f\"Distribution of test set: {test.to_pandas().groupby('labels')['labels'].count()}\")\n",
    "print(train['comment'][6])"
   ]
  },
  {
   "cell_type": "code",
   "execution_count": null,
   "id": "22d9fc18",
   "metadata": {},
   "outputs": [],
   "source": [
    "finetune(train, test, model_name, compute_loss=True, freeze=False, epochs=5, batch_size=16)"
   ]
  },
  {
   "cell_type": "code",
   "execution_count": null,
   "id": "cef92b3a",
   "metadata": {},
   "outputs": [],
   "source": [
    "generate_evaluation_data(test, exp='ROBERTA_nomask')"
   ]
  },
  {
   "cell_type": "code",
   "execution_count": null,
   "id": "e8e806e2",
   "metadata": {},
   "outputs": [],
   "source": [
    "test_pred = eval(test, f'{model_name}_infrastructure_ft')"
   ]
  },
  {
   "cell_type": "code",
   "execution_count": null,
   "id": "0be6e97f",
   "metadata": {},
   "outputs": [],
   "source": [
    "mp, mr, mf, ma = [],[],[], []\n",
    "for i in range(5):\n",
    "  c = test.train_test_split(test_size=0.3, seed=i)\n",
    "  precision, recall, f1, accuracy = eval_variance(c['train'], f'{model_name}_infrastructure_ft')\n",
    "  mp.append(precision)\n",
    "  mr.append(recall)\n",
    "  mf.append(f1)\n",
    "  ma.append(accuracy)\n",
    "print(mp)"
   ]
  },
  {
   "cell_type": "code",
   "execution_count": null,
   "id": "65474397",
   "metadata": {},
   "outputs": [],
   "source": [
    "print(np.var(mp))\n",
    "print(np.var(mr))\n",
    "print(np.var(mf))\n",
    "print(np.var(ma))"
   ]
  },
  {
   "cell_type": "code",
   "execution_count": null,
   "id": "143de45d",
   "metadata": {},
   "outputs": [],
   "source": [
    "train_pred = eval(train, f'{model_name}_infrastructure_ft')"
   ]
  }
 ],
 "metadata": {
  "kernelspec": {
   "display_name": "Python 3 (ipykernel)",
   "language": "python",
   "name": "python3"
  },
  "language_info": {
   "codemirror_mode": {
    "name": "ipython",
    "version": 3
   },
   "file_extension": ".py",
   "mimetype": "text/x-python",
   "name": "python",
   "nbconvert_exporter": "python",
   "pygments_lexer": "ipython3",
   "version": "3.10.8"
  }
 },
 "nbformat": 4,
 "nbformat_minor": 5
}
