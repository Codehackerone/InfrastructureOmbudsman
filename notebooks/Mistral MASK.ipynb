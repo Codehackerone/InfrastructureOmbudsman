{
 "cells": [
  {
   "cell_type": "code",
   "execution_count": 11,
   "id": "1ce65b70",
   "metadata": {},
   "outputs": [],
   "source": [
    "from training import llm\n",
    "from transformers import (\n",
    "    LlamaTokenizerFast,\n",
    "    TrainingArguments,\n",
    "    Trainer,\n",
    "    LlamaForSequenceClassification,\n",
    "    BitsAndBytesConfig,\n",
    "    AutoTokenizer,\n",
    "    pipeline,\n",
    "    AutoModelForSequenceClassification,\n",
    ")\n",
    "import numpy as np\n",
    "import pandas as pd\n",
    "import sklearn.metrics\n",
    "import bitsandbytes as bnb\n",
    "import datasets\n",
    "import evaluate\n",
    "import torch\n",
    "from huggingface_hub import login\n",
    "import os\n",
    "import random\n",
    "import spacy\n",
    "from tqdm import tqdm\n",
    "import seaborn as sns\n",
    "import matplotlib.pyplot as plt\n",
    "import json"
   ]
  },
  {
   "cell_type": "code",
   "execution_count": 8,
   "id": "07decb04",
   "metadata": {},
   "outputs": [],
   "source": [
    "l = llm.LLMTrain(data='./data/infrastructure.csv',\n",
    "            config='./training/llm-config.json',\n",
    "            mask=True,\n",
    "            base_model='mistralai/Mistral-7B-v0.1',\n",
    "            exp='Mistral_mask')"
   ]
  },
  {
   "cell_type": "code",
   "execution_count": null,
   "id": "02d69244",
   "metadata": {},
   "outputs": [
    {
     "name": "stdout",
     "output_type": "stream",
     "text": [
      "================================================================================\n",
      "Your GPU supports bfloat16: accelerate training with bf16=True\n",
      "================================================================================\n"
     ]
    },
    {
     "data": {
      "application/vnd.jupyter.widget-view+json": {
       "model_id": "dd09fefb2b44493592a7cadaaeaa4ee4",
       "version_major": 2,
       "version_minor": 0
      },
      "text/plain": [
       "Loading checkpoint shards:   0%|          | 0/2 [00:00<?, ?it/s]"
      ]
     },
     "metadata": {},
     "output_type": "display_data"
    },
    {
     "name": "stderr",
     "output_type": "stream",
     "text": [
      "Some weights of MistralForSequenceClassification were not initialized from the model checkpoint at mistralai/Mistral-7B-v0.1 and are newly initialized: ['score.weight']\n",
      "You should probably TRAIN this model on a down-stream task to be able to use it for predictions and inference.\n"
     ]
    },
    {
     "data": {
      "application/vnd.jupyter.widget-view+json": {
       "model_id": "51837bc7514a4b18a8752478d1df897f",
       "version_major": 2,
       "version_minor": 0
      },
      "text/plain": [
       "Map:   0%|          | 0/2662 [00:00<?, ? examples/s]"
      ]
     },
     "metadata": {},
     "output_type": "display_data"
    },
    {
     "name": "stdout",
     "output_type": "stream",
     "text": [
      "Tokenizing dataset\n"
     ]
    },
    {
     "data": {
      "application/vnd.jupyter.widget-view+json": {
       "model_id": "931b89e4e64b4bf39aff0ae6aea534fa",
       "version_major": 2,
       "version_minor": 0
      },
      "text/plain": [
       "Map:   0%|          | 0/1863 [00:00<?, ? examples/s]"
      ]
     },
     "metadata": {},
     "output_type": "display_data"
    },
    {
     "data": {
      "application/vnd.jupyter.widget-view+json": {
       "model_id": "7f9a1fe661294d8e93b39490240de53a",
       "version_major": 2,
       "version_minor": 0
      },
      "text/plain": [
       "Map:   0%|          | 0/799 [00:00<?, ? examples/s]"
      ]
     },
     "metadata": {},
     "output_type": "display_data"
    },
    {
     "name": "stderr",
     "output_type": "stream",
     "text": [
      "You're using a LlamaTokenizerFast tokenizer. Please note that with a fast tokenizer, using the `__call__` method is faster than using a method to encode the text followed by a call to the `pad` method to get a padded encoding.\n"
     ]
    },
    {
     "data": {
      "text/html": [
       "\n",
       "    <div>\n",
       "      \n",
       "      <progress value='1130' max='1165' style='width:300px; height:20px; vertical-align: middle;'></progress>\n",
       "      [1130/1165 4:10:29 < 07:46, 0.08 it/s, Epoch 4.85/5]\n",
       "    </div>\n",
       "    <table border=\"1\" class=\"dataframe\">\n",
       "  <thead>\n",
       " <tr style=\"text-align: left;\">\n",
       "      <th>Epoch</th>\n",
       "      <th>Training Loss</th>\n",
       "      <th>Validation Loss</th>\n",
       "      <th>F1</th>\n",
       "    </tr>\n",
       "  </thead>\n",
       "  <tbody>\n",
       "    <tr>\n",
       "      <td>1</td>\n",
       "      <td>1.746900</td>\n",
       "      <td>1.621081</td>\n",
       "      <td>0.919416</td>\n",
       "    </tr>\n",
       "    <tr>\n",
       "      <td>2</td>\n",
       "      <td>0.741200</td>\n",
       "      <td>1.114225</td>\n",
       "      <td>0.897913</td>\n",
       "    </tr>\n",
       "    <tr>\n",
       "      <td>3</td>\n",
       "      <td>0.219400</td>\n",
       "      <td>1.921469</td>\n",
       "      <td>0.927148</td>\n",
       "    </tr>\n",
       "    <tr>\n",
       "      <td>4</td>\n",
       "      <td>0.003300</td>\n",
       "      <td>2.278455</td>\n",
       "      <td>0.908078</td>\n",
       "    </tr>\n",
       "  </tbody>\n",
       "</table><p>"
      ],
      "text/plain": [
       "<IPython.core.display.HTML object>"
      ]
     },
     "metadata": {},
     "output_type": "display_data"
    }
   ],
   "source": [
    "l.train()"
   ]
  },
  {
   "cell_type": "code",
   "execution_count": 12,
   "id": "6c5baf8a",
   "metadata": {},
   "outputs": [
    {
     "name": "stderr",
     "output_type": "stream",
     "text": [
      "The model 'PeftModelForSequenceClassification' is not supported for text-classification. Supported models are ['AlbertForSequenceClassification', 'BartForSequenceClassification', 'BertForSequenceClassification', 'BigBirdForSequenceClassification', 'BigBirdPegasusForSequenceClassification', 'BioGptForSequenceClassification', 'BloomForSequenceClassification', 'CamembertForSequenceClassification', 'CanineForSequenceClassification', 'LlamaForSequenceClassification', 'ConvBertForSequenceClassification', 'CTRLForSequenceClassification', 'Data2VecTextForSequenceClassification', 'DebertaForSequenceClassification', 'DebertaV2ForSequenceClassification', 'DistilBertForSequenceClassification', 'ElectraForSequenceClassification', 'ErnieForSequenceClassification', 'ErnieMForSequenceClassification', 'EsmForSequenceClassification', 'FalconForSequenceClassification', 'FlaubertForSequenceClassification', 'FNetForSequenceClassification', 'FunnelForSequenceClassification', 'GPT2ForSequenceClassification', 'GPT2ForSequenceClassification', 'GPTBigCodeForSequenceClassification', 'GPTNeoForSequenceClassification', 'GPTNeoXForSequenceClassification', 'GPTJForSequenceClassification', 'IBertForSequenceClassification', 'LayoutLMForSequenceClassification', 'LayoutLMv2ForSequenceClassification', 'LayoutLMv3ForSequenceClassification', 'LEDForSequenceClassification', 'LiltForSequenceClassification', 'LlamaForSequenceClassification', 'LongformerForSequenceClassification', 'LukeForSequenceClassification', 'MarkupLMForSequenceClassification', 'MBartForSequenceClassification', 'MegaForSequenceClassification', 'MegatronBertForSequenceClassification', 'MistralForSequenceClassification', 'MobileBertForSequenceClassification', 'MPNetForSequenceClassification', 'MptForSequenceClassification', 'MraForSequenceClassification', 'MT5ForSequenceClassification', 'MvpForSequenceClassification', 'NezhaForSequenceClassification', 'NystromformerForSequenceClassification', 'OpenLlamaForSequenceClassification', 'OpenAIGPTForSequenceClassification', 'OPTForSequenceClassification', 'PerceiverForSequenceClassification', 'PersimmonForSequenceClassification', 'PLBartForSequenceClassification', 'QDQBertForSequenceClassification', 'ReformerForSequenceClassification', 'RemBertForSequenceClassification', 'RobertaForSequenceClassification', 'RobertaPreLayerNormForSequenceClassification', 'RoCBertForSequenceClassification', 'RoFormerForSequenceClassification', 'SqueezeBertForSequenceClassification', 'T5ForSequenceClassification', 'TapasForSequenceClassification', 'TransfoXLForSequenceClassification', 'UMT5ForSequenceClassification', 'XLMForSequenceClassification', 'XLMRobertaForSequenceClassification', 'XLMRobertaXLForSequenceClassification', 'XLNetForSequenceClassification', 'XmodForSequenceClassification', 'YosoForSequenceClassification'].\n"
     ]
    },
    {
     "data": {
      "application/vnd.jupyter.widget-view+json": {
       "model_id": "a75f57af8b834a2c9d1208ebe30d78b2",
       "version_major": 2,
       "version_minor": 0
      },
      "text/plain": [
       "Map:   0%|          | 0/799 [00:00<?, ? examples/s]"
      ]
     },
     "metadata": {},
     "output_type": "display_data"
    },
    {
     "name": "stderr",
     "output_type": "stream",
     "text": [
      "/home/mac9908/.local/lib/python3.10/site-packages/transformers/pipelines/base.py:1101: UserWarning: You seem to be using the pipelines sequentially on GPU. In order to maximize efficiency please use a dataset\n",
      "  warnings.warn(\n"
     ]
    },
    {
     "name": "stdout",
     "output_type": "stream",
     "text": [
      "Precision Score: 0.7083333333333334\n",
      "Accuracy Score: 0.9299123904881101\n",
      "Balanced Accuracy Score: 0.7817851201930918\n",
      "F1: 0.6455696202531647\n",
      "Classification Report:\n",
      "               precision    recall  f1-score   support\n",
      "\n",
      "         0.0       0.95      0.97      0.96       713\n",
      "         1.0       0.71      0.59      0.65        86\n",
      "\n",
      "    accuracy                           0.93       799\n",
      "   macro avg       0.83      0.78      0.80       799\n",
      "weighted avg       0.93      0.93      0.93       799\n",
      "\n"
     ]
    },
    {
     "data": {
      "image/png": "[encoded data removed]",
      "text/plain": [
       "<Figure size 640x480 with 2 Axes>"
      ]
     },
     "metadata": {},
     "output_type": "display_data"
    },
    {
     "data": {
      "text/html": [
       "<div>\n",
       "<style scoped>\n",
       "    .dataframe tbody tr th:only-of-type {\n",
       "        vertical-align: middle;\n",
       "    }\n",
       "\n",
       "    .dataframe tbody tr th {\n",
       "        vertical-align: top;\n",
       "    }\n",
       "\n",
       "    .dataframe thead th {\n",
       "        text-align: right;\n",
       "    }\n",
       "</style>\n",
       "<table border=\"1\" class=\"dataframe\">\n",
       "  <thead>\n",
       "    <tr style=\"text-align: right;\">\n",
       "      <th></th>\n",
       "      <th>Unnamed: 0</th>\n",
       "      <th>id</th>\n",
       "      <th>comment</th>\n",
       "      <th>label</th>\n",
       "      <th>labels</th>\n",
       "      <th>predict</th>\n",
       "    </tr>\n",
       "  </thead>\n",
       "  <tbody>\n",
       "    <tr>\n",
       "      <th>0</th>\n",
       "      <td>2015</td>\n",
       "      <td>UgzURxNi_C77Tai4UJN4AaABAg</td>\n",
       "      <td>I remember living in Winooski VT and crossing ...</td>\n",
       "      <td>1.0</td>\n",
       "      <td>1</td>\n",
       "      <td>0</td>\n",
       "    </tr>\n",
       "    <tr>\n",
       "      <th>1</th>\n",
       "      <td>1600</td>\n",
       "      <td>UgzPANj-taFusF56yS94AaABAg</td>\n",
       "      <td>Dear Mr. Buttigieg, My neighborhood is being o...</td>\n",
       "      <td>0.0</td>\n",
       "      <td>0</td>\n",
       "      <td>0</td>\n",
       "    </tr>\n",
       "    <tr>\n",
       "      <th>2</th>\n",
       "      <td>218</td>\n",
       "      <td>UgxN7CIAOko_85UbEsB4AaABAg</td>\n",
       "      <td>The scariest Bridge I ever crossed was the &lt;LO...</td>\n",
       "      <td>0.0</td>\n",
       "      <td>0</td>\n",
       "      <td>0</td>\n",
       "    </tr>\n",
       "    <tr>\n",
       "      <th>3</th>\n",
       "      <td>1872</td>\n",
       "      <td>UgzwkIaTzXxT0rb7Tjp4AaABAg</td>\n",
       "      <td>\"The eyes of history are on this appointment.\"...</td>\n",
       "      <td>0.0</td>\n",
       "      <td>0</td>\n",
       "      <td>0</td>\n",
       "    </tr>\n",
       "    <tr>\n",
       "      <th>4</th>\n",
       "      <td>751</td>\n",
       "      <td>Ugx_ul7oRYOC6LhtBQF4AaABAg</td>\n",
       "      <td>All of these government officials should head ...</td>\n",
       "      <td>0.0</td>\n",
       "      <td>0</td>\n",
       "      <td>0</td>\n",
       "    </tr>\n",
       "    <tr>\n",
       "      <th>...</th>\n",
       "      <td>...</td>\n",
       "      <td>...</td>\n",
       "      <td>...</td>\n",
       "      <td>...</td>\n",
       "      <td>...</td>\n",
       "      <td>...</td>\n",
       "    </tr>\n",
       "    <tr>\n",
       "      <th>794</th>\n",
       "      <td>353</td>\n",
       "      <td>UgzwxkzeSSsBbfyHXkt4AaABAg</td>\n",
       "      <td>I drive over that bridge several times going f...</td>\n",
       "      <td>0.0</td>\n",
       "      <td>0</td>\n",
       "      <td>1</td>\n",
       "    </tr>\n",
       "    <tr>\n",
       "      <th>795</th>\n",
       "      <td>337</td>\n",
       "      <td>UgwhH7BgHJjACLc0WBJ4AaABAg</td>\n",
       "      <td>Saw the \"design\" of the bridge. There was no s...</td>\n",
       "      <td>0.0</td>\n",
       "      <td>0</td>\n",
       "      <td>0</td>\n",
       "    </tr>\n",
       "    <tr>\n",
       "      <th>796</th>\n",
       "      <td>2098</td>\n",
       "      <td>jgulsr5</td>\n",
       "      <td>The rattling subway train from 1960s-70s that ...</td>\n",
       "      <td>1.0</td>\n",
       "      <td>1</td>\n",
       "      <td>0</td>\n",
       "    </tr>\n",
       "    <tr>\n",
       "      <th>797</th>\n",
       "      <td>668</td>\n",
       "      <td>UgxPAfdI6Nawn1k4m714AaABAg</td>\n",
       "      <td>Pete needs to be looking into this! They’ve do...</td>\n",
       "      <td>0.0</td>\n",
       "      <td>0</td>\n",
       "      <td>0</td>\n",
       "    </tr>\n",
       "    <tr>\n",
       "      <th>798</th>\n",
       "      <td>2006</td>\n",
       "      <td>UgyU_c3fYlybGiAAKft4AaABAg</td>\n",
       "      <td>My husband and I were supposed to go to &lt;LOCAT...</td>\n",
       "      <td>0.0</td>\n",
       "      <td>0</td>\n",
       "      <td>0</td>\n",
       "    </tr>\n",
       "  </tbody>\n",
       "</table>\n",
       "<p>799 rows × 6 columns</p>\n",
       "</div>"
      ],
      "text/plain": [
       "     Unnamed: 0                          id  \\\n",
       "0          2015  UgzURxNi_C77Tai4UJN4AaABAg   \n",
       "1          1600  UgzPANj-taFusF56yS94AaABAg   \n",
       "2           218  UgxN7CIAOko_85UbEsB4AaABAg   \n",
       "3          1872  UgzwkIaTzXxT0rb7Tjp4AaABAg   \n",
       "4           751  Ugx_ul7oRYOC6LhtBQF4AaABAg   \n",
       "..          ...                         ...   \n",
       "794         353  UgzwxkzeSSsBbfyHXkt4AaABAg   \n",
       "795         337  UgwhH7BgHJjACLc0WBJ4AaABAg   \n",
       "796        2098                     jgulsr5   \n",
       "797         668  UgxPAfdI6Nawn1k4m714AaABAg   \n",
       "798        2006  UgyU_c3fYlybGiAAKft4AaABAg   \n",
       "\n",
       "                                               comment  label  labels  predict  \n",
       "0    I remember living in Winooski VT and crossing ...    1.0       1        0  \n",
       "1    Dear Mr. Buttigieg, My neighborhood is being o...    0.0       0        0  \n",
       "2    The scariest Bridge I ever crossed was the <LO...    0.0       0        0  \n",
       "3    \"The eyes of history are on this appointment.\"...    0.0       0        0  \n",
       "4    All of these government officials should head ...    0.0       0        0  \n",
       "..                                                 ...    ...     ...      ...  \n",
       "794  I drive over that bridge several times going f...    0.0       0        1  \n",
       "795  Saw the \"design\" of the bridge. There was no s...    0.0       0        0  \n",
       "796  The rattling subway train from 1960s-70s that ...    1.0       1        0  \n",
       "797  Pete needs to be looking into this! They’ve do...    0.0       0        0  \n",
       "798  My husband and I were supposed to go to <LOCAT...    0.0       0        0  \n",
       "\n",
       "[799 rows x 6 columns]"
      ]
     },
     "execution_count": 12,
     "metadata": {},
     "output_type": "execute_result"
    }
   ],
   "source": [
    "l.do_eval(l.test_data)"
   ]
  },
  {
   "cell_type": "code",
   "execution_count": 14,
   "id": "6c6c042e",
   "metadata": {},
   "outputs": [
    {
     "name": "stderr",
     "output_type": "stream",
     "text": [
      "The model 'PeftModelForSequenceClassification' is not supported for text-classification. Supported models are ['AlbertForSequenceClassification', 'BartForSequenceClassification', 'BertForSequenceClassification', 'BigBirdForSequenceClassification', 'BigBirdPegasusForSequenceClassification', 'BioGptForSequenceClassification', 'BloomForSequenceClassification', 'CamembertForSequenceClassification', 'CanineForSequenceClassification', 'LlamaForSequenceClassification', 'ConvBertForSequenceClassification', 'CTRLForSequenceClassification', 'Data2VecTextForSequenceClassification', 'DebertaForSequenceClassification', 'DebertaV2ForSequenceClassification', 'DistilBertForSequenceClassification', 'ElectraForSequenceClassification', 'ErnieForSequenceClassification', 'ErnieMForSequenceClassification', 'EsmForSequenceClassification', 'FalconForSequenceClassification', 'FlaubertForSequenceClassification', 'FNetForSequenceClassification', 'FunnelForSequenceClassification', 'GPT2ForSequenceClassification', 'GPT2ForSequenceClassification', 'GPTBigCodeForSequenceClassification', 'GPTNeoForSequenceClassification', 'GPTNeoXForSequenceClassification', 'GPTJForSequenceClassification', 'IBertForSequenceClassification', 'LayoutLMForSequenceClassification', 'LayoutLMv2ForSequenceClassification', 'LayoutLMv3ForSequenceClassification', 'LEDForSequenceClassification', 'LiltForSequenceClassification', 'LlamaForSequenceClassification', 'LongformerForSequenceClassification', 'LukeForSequenceClassification', 'MarkupLMForSequenceClassification', 'MBartForSequenceClassification', 'MegaForSequenceClassification', 'MegatronBertForSequenceClassification', 'MistralForSequenceClassification', 'MobileBertForSequenceClassification', 'MPNetForSequenceClassification', 'MptForSequenceClassification', 'MraForSequenceClassification', 'MT5ForSequenceClassification', 'MvpForSequenceClassification', 'NezhaForSequenceClassification', 'NystromformerForSequenceClassification', 'OpenLlamaForSequenceClassification', 'OpenAIGPTForSequenceClassification', 'OPTForSequenceClassification', 'PerceiverForSequenceClassification', 'PersimmonForSequenceClassification', 'PLBartForSequenceClassification', 'QDQBertForSequenceClassification', 'ReformerForSequenceClassification', 'RemBertForSequenceClassification', 'RobertaForSequenceClassification', 'RobertaPreLayerNormForSequenceClassification', 'RoCBertForSequenceClassification', 'RoFormerForSequenceClassification', 'SqueezeBertForSequenceClassification', 'T5ForSequenceClassification', 'TapasForSequenceClassification', 'TransfoXLForSequenceClassification', 'UMT5ForSequenceClassification', 'XLMForSequenceClassification', 'XLMRobertaForSequenceClassification', 'XLMRobertaXLForSequenceClassification', 'XLNetForSequenceClassification', 'XmodForSequenceClassification', 'YosoForSequenceClassification'].\n"
     ]
    },
    {
     "data": {
      "application/vnd.jupyter.widget-view+json": {
       "model_id": "96477c57ccf24324bf8e05e39a6b478b",
       "version_major": 2,
       "version_minor": 0
      },
      "text/plain": [
       "Map:   0%|          | 0/559 [00:00<?, ? examples/s]"
      ]
     },
     "metadata": {},
     "output_type": "display_data"
    },
    {
     "name": "stderr",
     "output_type": "stream",
     "text": [
      "/home/mac9908/.local/lib/python3.10/site-packages/transformers/pipelines/base.py:1101: UserWarning: You seem to be using the pipelines sequentially on GPU. In order to maximize efficiency please use a dataset\n",
      "  warnings.warn(\n"
     ]
    },
    {
     "name": "stdout",
     "output_type": "stream",
     "text": [
      "0      LABEL_0\n",
      "1      LABEL_0\n",
      "2      LABEL_0\n",
      "3      LABEL_0\n",
      "4      LABEL_0\n",
      "        ...   \n",
      "554    LABEL_1\n",
      "555    LABEL_0\n",
      "556    LABEL_0\n",
      "557    LABEL_0\n",
      "558    LABEL_0\n",
      "Name: predict, Length: 559, dtype: object\n"
     ]
    },
    {
     "data": {
      "application/vnd.jupyter.widget-view+json": {
       "model_id": "656495d158c34fcfa671fefd7543106f",
       "version_major": 2,
       "version_minor": 0
      },
      "text/plain": [
       "Map:   0%|          | 0/559 [00:00<?, ? examples/s]"
      ]
     },
     "metadata": {},
     "output_type": "display_data"
    },
    {
     "name": "stderr",
     "output_type": "stream",
     "text": [
      "/home/mac9908/.local/lib/python3.10/site-packages/transformers/pipelines/base.py:1101: UserWarning: You seem to be using the pipelines sequentially on GPU. In order to maximize efficiency please use a dataset\n",
      "  warnings.warn(\n"
     ]
    },
    {
     "name": "stdout",
     "output_type": "stream",
     "text": [
      "0      LABEL_0\n",
      "1      LABEL_0\n",
      "2      LABEL_0\n",
      "3      LABEL_0\n",
      "4      LABEL_0\n",
      "        ...   \n",
      "554    LABEL_0\n",
      "555    LABEL_1\n",
      "556    LABEL_0\n",
      "557    LABEL_0\n",
      "558    LABEL_0\n",
      "Name: predict, Length: 559, dtype: object\n"
     ]
    },
    {
     "data": {
      "application/vnd.jupyter.widget-view+json": {
       "model_id": "92017456dacb47d2bd50093b1b4f8d14",
       "version_major": 2,
       "version_minor": 0
      },
      "text/plain": [
       "Map:   0%|          | 0/559 [00:00<?, ? examples/s]"
      ]
     },
     "metadata": {},
     "output_type": "display_data"
    },
    {
     "name": "stderr",
     "output_type": "stream",
     "text": [
      "/home/mac9908/.local/lib/python3.10/site-packages/transformers/pipelines/base.py:1101: UserWarning: You seem to be using the pipelines sequentially on GPU. In order to maximize efficiency please use a dataset\n",
      "  warnings.warn(\n"
     ]
    },
    {
     "name": "stdout",
     "output_type": "stream",
     "text": [
      "0      LABEL_0\n",
      "1      LABEL_0\n",
      "2      LABEL_0\n",
      "3      LABEL_0\n",
      "4      LABEL_1\n",
      "        ...   \n",
      "554    LABEL_0\n",
      "555    LABEL_1\n",
      "556    LABEL_0\n",
      "557    LABEL_0\n",
      "558    LABEL_1\n",
      "Name: predict, Length: 559, dtype: object\n"
     ]
    },
    {
     "data": {
      "application/vnd.jupyter.widget-view+json": {
       "model_id": "cf3128a652a848a8a5fcde5533cb7d98",
       "version_major": 2,
       "version_minor": 0
      },
      "text/plain": [
       "Map:   0%|          | 0/559 [00:00<?, ? examples/s]"
      ]
     },
     "metadata": {},
     "output_type": "display_data"
    },
    {
     "name": "stderr",
     "output_type": "stream",
     "text": [
      "/home/mac9908/.local/lib/python3.10/site-packages/transformers/pipelines/base.py:1101: UserWarning: You seem to be using the pipelines sequentially on GPU. In order to maximize efficiency please use a dataset\n",
      "  warnings.warn(\n"
     ]
    },
    {
     "name": "stdout",
     "output_type": "stream",
     "text": [
      "0      LABEL_0\n",
      "1      LABEL_0\n",
      "2      LABEL_0\n",
      "3      LABEL_0\n",
      "4      LABEL_0\n",
      "        ...   \n",
      "554    LABEL_0\n",
      "555    LABEL_0\n",
      "556    LABEL_0\n",
      "557    LABEL_0\n",
      "558    LABEL_1\n",
      "Name: predict, Length: 559, dtype: object\n"
     ]
    },
    {
     "data": {
      "application/vnd.jupyter.widget-view+json": {
       "model_id": "7f40cc8a715b45848efb0e6824483f30",
       "version_major": 2,
       "version_minor": 0
      },
      "text/plain": [
       "Map:   0%|          | 0/559 [00:00<?, ? examples/s]"
      ]
     },
     "metadata": {},
     "output_type": "display_data"
    },
    {
     "name": "stderr",
     "output_type": "stream",
     "text": [
      "/home/mac9908/.local/lib/python3.10/site-packages/transformers/pipelines/base.py:1101: UserWarning: You seem to be using the pipelines sequentially on GPU. In order to maximize efficiency please use a dataset\n",
      "  warnings.warn(\n"
     ]
    },
    {
     "name": "stdout",
     "output_type": "stream",
     "text": [
      "0      LABEL_1\n",
      "1      LABEL_1\n",
      "2      LABEL_0\n",
      "3      LABEL_0\n",
      "4      LABEL_0\n",
      "        ...   \n",
      "554    LABEL_1\n",
      "555    LABEL_0\n",
      "556    LABEL_0\n",
      "557    LABEL_0\n",
      "558    LABEL_1\n",
      "Name: predict, Length: 559, dtype: object\n"
     ]
    },
    {
     "data": {
      "text/html": [
       "<div>\n",
       "<style scoped>\n",
       "    .dataframe tbody tr th:only-of-type {\n",
       "        vertical-align: middle;\n",
       "    }\n",
       "\n",
       "    .dataframe tbody tr th {\n",
       "        vertical-align: top;\n",
       "    }\n",
       "\n",
       "    .dataframe thead th {\n",
       "        text-align: right;\n",
       "    }\n",
       "</style>\n",
       "<table border=\"1\" class=\"dataframe\">\n",
       "  <thead>\n",
       "    <tr style=\"text-align: right;\">\n",
       "      <th></th>\n",
       "      <th>precision</th>\n",
       "      <th>recall</th>\n",
       "      <th>f1</th>\n",
       "      <th>accuracy</th>\n",
       "    </tr>\n",
       "  </thead>\n",
       "  <tbody>\n",
       "    <tr>\n",
       "      <th>0</th>\n",
       "      <td>0.8270028651979002+-1.9003902409930948e-05</td>\n",
       "      <td>0.7851074051820777+-0.00018718290085174342</td>\n",
       "      <td>0.8037630944435461+-4.982316832118833e-05</td>\n",
       "      <td>0.9295169946332736+-2.6369603271879274e-05</td>\n",
       "    </tr>\n",
       "  </tbody>\n",
       "</table>\n",
       "</div>"
      ],
      "text/plain": [
       "                                    precision  \\\n",
       "0  0.8270028651979002+-1.9003902409930948e-05   \n",
       "\n",
       "                                       recall  \\\n",
       "0  0.7851074051820777+-0.00018718290085174342   \n",
       "\n",
       "                                          f1  \\\n",
       "0  0.8037630944435461+-4.982316832118833e-05   \n",
       "\n",
       "                                     accuracy  \n",
       "0  0.9295169946332736+-2.6369603271879274e-05  "
      ]
     },
     "execution_count": 14,
     "metadata": {},
     "output_type": "execute_result"
    }
   ],
   "source": [
    "pipe = pipeline(task='text-classification',\n",
    "              model=l.model,\n",
    "              tokenizer=l.tokenizer,\n",
    "              padding=\"max_length\",\n",
    "              truncation=True,\n",
    "              max_length=512)\n",
    "def eval_variance(data, pipe):\n",
    "    label2id = {\"NEGATIVE\": 0, \"POSITIVE\": 1, 'LABEL_0': 0, 'LABEL_1': 1}\n",
    "    def predict(x):\n",
    "        x['predict'] = pipe(x['comment'])[0]['label']\n",
    "        return x\n",
    "    res = data.map(predict)\n",
    "    res = res.to_pandas()\n",
    "    print(res['predict'])\n",
    "    res['predict'] = res['predict'].map(label2id)\n",
    "    rep = sklearn.metrics.classification_report(res['label'], res['predict'], output_dict=True)\n",
    "    precision, recall, f1, accuracy = rep['macro avg']['precision'], rep['macro avg']['recall'], rep['macro avg']['f1-score'], rep['accuracy']\n",
    "    return precision, recall, f1, accuracy\n",
    "\n",
    "mp, mr, mf, ma = [],[],[], []\n",
    "for i in range(5):\n",
    "  c = l.test_data.train_test_split(test_size=0.3, seed=i)\n",
    "  precision, recall, f1, accuracy = eval_variance(c['train'], pipe)\n",
    "  mp.append(precision)\n",
    "  mr.append(recall)\n",
    "  mf.append(f1)\n",
    "  ma.append(accuracy)\n",
    "llama2_nomask_res = pd.DataFrame.from_dict({\n",
    "    'precision': [f'{np.mean(mp)}+-{np.var(mp)}'], \n",
    "    'recall': [f'{np.mean(mr)}+-{np.var(mr)}'], \n",
    "    'f1': [f'{np.mean(mf)}+-{np.var(mf)}'], \n",
    "    'accuracy': [f'{np.mean(ma)}+-{np.var(ma)}']})\n",
    "llama2_nomask_res"
   ]
  },
  {
   "cell_type": "code",
   "execution_count": 15,
   "id": "c4e0a61e",
   "metadata": {},
   "outputs": [],
   "source": [
    "llama2_nomask_res.to_json('Mistral_mask_res.json')"
   ]
  },
  {
   "cell_type": "code",
   "execution_count": null,
   "id": "cc9c8fd2",
   "metadata": {},
   "outputs": [],
   "source": []
  }
 ],
 "metadata": {
  "kernelspec": {
   "display_name": "Python 3 (ipykernel)",
   "language": "python",
   "name": "python3"
  },
  "language_info": {
   "codemirror_mode": {
    "name": "ipython",
    "version": 3
   },
   "file_extension": ".py",
   "mimetype": "text/x-python",
   "name": "python",
   "nbconvert_exporter": "python",
   "pygments_lexer": "ipython3",
   "version": "3.10.8"
  }
 },
 "nbformat": 4,
 "nbformat_minor": 5
}
